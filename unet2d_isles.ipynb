{
 "cells": [
  {
   "cell_type": "code",
   "execution_count": 1,
   "id": "3ae163b3",
   "metadata": {
    "scrolled": true
   },
   "outputs": [
    {
     "name": "stdout",
     "output_type": "stream",
     "text": [
      "0.8.0\n",
      "MONAI version: 0.8.0\n",
      "Numpy version: 1.21.2\n",
      "Pytorch version: 1.10.0\n",
      "MONAI flags: HAS_EXT = False, USE_COMPILED = False\n",
      "MONAI rev id: 714d00dffe6653e21260160666c4c201ab66511b\n",
      "\n",
      "Optional dependencies:\n",
      "Pytorch Ignite version: 0.4.7\n",
      "Nibabel version: 3.2.1\n",
      "scikit-image version: NOT INSTALLED or UNKNOWN VERSION.\n",
      "Pillow version: 8.4.0\n",
      "Tensorboard version: 2.7.0\n",
      "gdown version: NOT INSTALLED or UNKNOWN VERSION.\n",
      "TorchVision version: 0.11.1\n",
      "tqdm version: 4.62.3\n",
      "lmdb version: NOT INSTALLED or UNKNOWN VERSION.\n",
      "psutil version: NOT INSTALLED or UNKNOWN VERSION.\n",
      "pandas version: 1.3.4\n",
      "einops version: NOT INSTALLED or UNKNOWN VERSION.\n",
      "transformers version: NOT INSTALLED or UNKNOWN VERSION.\n",
      "mlflow version: NOT INSTALLED or UNKNOWN VERSION.\n",
      "\n",
      "For details about installing the optional dependencies, please visit:\n",
      "    https://docs.monai.io/en/latest/installation.html#installing-the-recommended-dependencies\n",
      "\n"
     ]
    }
   ],
   "source": [
    "import nibabel as nib #to read the niftis\n",
    "from glob import glob #to quicly read the nifti paths\n",
    "import logging # for printing monai info\n",
    "import sys # for printing monai info\n",
    "import monai #for this experiment monai will be the main framework for 2d segmentation\n",
    "import torch\n",
    "from monai.transforms import (\n",
    "    Activations,\n",
    "    AsChannelFirstD,\n",
    "    AddChannel,\n",
    "    AsDiscrete,\n",
    "    Compose,\n",
    "    LoadImage,\n",
    "    RandRotate90,\n",
    "    RandSpatialCrop,\n",
    "    ScaleIntensity,\n",
    "    EnsureType,\n",
    "    Resized\n",
    ")\n",
    "from torch.utils.tensorboard import SummaryWriter\n",
    "\n",
    "from monai.data import (\n",
    "    ArrayDataset, GridPatchDataset, create_test_image_3d, PatchIter) #Aparently this allow to read direcly a set of niftis\n",
    "from monai.utils import first\n",
    "from matplotlib import pyplot as plt\n",
    "from monai.metrics import DiceMetric\n",
    "\n",
    "import numpy as np\n",
    "print(monai.__version__) \n",
    "monai.config.print_config()\n",
    "logging.basicConfig(stream=sys.stdout, level=logging.INFO)\n",
    "from monai.inferers import sliding_window_inference\n",
    "from monai.data import DataLoader, decollate_batch"
   ]
  },
  {
   "cell_type": "code",
   "execution_count": 2,
   "id": "5ef4ea90",
   "metadata": {},
   "outputs": [],
   "source": [
    "lieu = 'sebastian_laptop' # \n",
    "if lieu =='sebastian_laptop': # jony_laptop\n",
    "    isles_data_root = '/Users/sebastianotalora/work/postdoc/data/ISLES/TRAINING/'\n",
    "    isles_data_val_root = '/Users/sebastianotalora/work/postdoc/data/ISLES/VALIDATION/'\n",
    "\n",
    "\n",
    "if lieu =='jony_laptop': # jony_laptop\n",
    "    isles_data_root = '/home/diffusion/Desktop/ISLES2018_Training/TRAINING/'\n",
    "    isles_data_val_root = '/home/diffusion/Desktop/ISLES2018_Val/'\n"
   ]
  },
  {
   "cell_type": "code",
   "execution_count": 3,
   "id": "277c7895",
   "metadata": {
    "scrolled": true
   },
   "outputs": [
    {
     "name": "stdout",
     "output_type": "stream",
     "text": [
      "/Users/sebastianotalora/work/postdoc/data/ISLES/TRAINING/case_94/SMIR.Brain.XX.O.CT_CBF.346202/SMIR.Brain.XX.O.CT_CBF.346202.nii\n"
     ]
    }
   ],
   "source": [
    "cbf_paths = sorted(glob(isles_data_root+'*/*CBF*/*nii'))\n",
    "cbv_paths = sorted(glob(isles_data_root+'*/*CBV*/*nii'))\n",
    "mtt_paths = sorted(glob(isles_data_root+'*/*MTT*/*nii'))\n",
    "tmx_paths = sorted(glob(isles_data_root+'*/*Tmax*/*nii'))\n",
    "lbl_paths = sorted(glob(isles_data_root+'*/*OT*/*nii'))\n",
    "print(cbf_paths[-1])"
   ]
  },
  {
   "cell_type": "code",
   "execution_count": 4,
   "id": "a7eecd21",
   "metadata": {},
   "outputs": [
    {
     "name": "stdout",
     "output_type": "stream",
     "text": [
      "/Users/sebastianotalora/work/postdoc/data/ISLES/VALIDATION/case_94/SMIR.Brain.XX.O.CT_CBF.346202/SMIR.Brain.XX.O.CT_CBF.346202.nii\n"
     ]
    }
   ],
   "source": [
    "cbf_paths_val = sorted(glob(isles_data_val_root+'*/*CBF*/*nii'))\n",
    "cbv_paths_val = sorted(glob(isles_data_val_root+'*/*CBV*/*nii'))\n",
    "mtt_paths_val = sorted(glob(isles_data_val_root+'*/*MTT*/*nii'))\n",
    "tmx_paths_val = sorted(glob(isles_data_val_root+'*/*Tmax*/*nii'))\n",
    "lbl_paths_val = sorted(glob(isles_data_val_root+'*/*OT*/*nii'))\n",
    "print(cbf_paths_val[-1])"
   ]
  },
  {
   "cell_type": "code",
   "execution_count": 5,
   "id": "dfdadbc7",
   "metadata": {},
   "outputs": [],
   "source": [
    "imtrans = Compose(\n",
    "    [   LoadImage(image_only=True),\n",
    "        ScaleIntensity(),\n",
    "        AddChannel(),\n",
    "        RandSpatialCrop((224, 224,1), random_size=False),\n",
    "        EnsureType(),\n",
    "        #Resized\n",
    "    ]\n",
    ")\n",
    "\n",
    "segtrans = Compose(\n",
    "    [   LoadImage(image_only=True),\n",
    "        AddChannel(),\n",
    "        RandSpatialCrop((224, 224,1), random_size=False),\n",
    "        EnsureType(),\n",
    "        #Resized\n",
    "    ]\n",
    ")\n",
    "\n",
    "val_imtrans  = Compose([LoadImage(image_only=True), AddChannel(), ScaleIntensity(), EnsureType()])\n",
    "val_segtrans = Compose([LoadImage(image_only=True), AddChannel(), ScaleIntensity(), EnsureType()])\n",
    "\n"
   ]
  },
  {
   "cell_type": "code",
   "execution_count": 6,
   "id": "b2a7230c",
   "metadata": {},
   "outputs": [],
   "source": [
    "ds      = ArrayDataset(cbf_paths, imtrans, lbl_paths, segtrans)\n",
    "\n",
    "val_ds  = ArrayDataset(cbf_paths_val, val_imtrans, lbl_paths_val, val_segtrans)"
   ]
  },
  {
   "cell_type": "code",
   "execution_count": 7,
   "id": "d1d61d5a",
   "metadata": {},
   "outputs": [
    {
     "name": "stdout",
     "output_type": "stream",
     "text": [
      "torch.Size([1, 1, 224, 224, 1]) torch.Size([1, 1, 224, 224, 1])\n"
     ]
    }
   ],
   "source": [
    "loader = torch.utils.data.DataLoader(\n",
    "    ds, batch_size=1, num_workers=1, pin_memory=torch.cuda.is_available()\n",
    ")\n",
    "im, seg = first(loader)\n",
    "print(im.shape, seg.shape)"
   ]
  },
  {
   "cell_type": "code",
   "execution_count": 8,
   "id": "f3ca7a1c",
   "metadata": {},
   "outputs": [],
   "source": [
    "# create a validation data loader\n",
    "val_loader = torch.utils.data.DataLoader(val_ds, batch_size=1, num_workers=4, pin_memory=torch.cuda.is_available())\n",
    "\n"
   ]
  },
  {
   "cell_type": "code",
   "execution_count": 9,
   "id": "4f3df8dc",
   "metadata": {
    "scrolled": true
   },
   "outputs": [
    {
     "data": {
      "text/plain": [
       "<matplotlib.image.AxesImage at 0x7fe8d8427670>"
      ]
     },
     "execution_count": 9,
     "metadata": {},
     "output_type": "execute_result"
    },
    {
     "data": {
      "image/png": "[encoded data removed]",
      "text/plain": [
       "<Figure size 432x288 with 1 Axes>"
      ]
     },
     "metadata": {
      "needs_background": "light"
     },
     "output_type": "display_data"
    }
   ],
   "source": [
    "sample_im, sample_seg = im.numpy(), seg.numpy()\n",
    "plt.imshow(sample_im[0,0,:,:,0],cmap='jet')"
   ]
  },
  {
   "cell_type": "code",
   "execution_count": 10,
   "id": "a523e1cf",
   "metadata": {
    "scrolled": true
   },
   "outputs": [
    {
     "data": {
      "text/plain": [
       "<matplotlib.image.AxesImage at 0x7fe8d845f1f0>"
      ]
     },
     "execution_count": 10,
     "metadata": {},
     "output_type": "execute_result"
    },
    {
     "data": {
      "image/png": "[encoded data removed]",
      "text/plain": [
       "<Figure size 432x288 with 1 Axes>"
      ]
     },
     "metadata": {
      "needs_background": "light"
     },
     "output_type": "display_data"
    }
   ],
   "source": [
    "plt.imshow(sample_seg[0,0,:,:,0],cmap='jet')"
   ]
  },
  {
   "cell_type": "code",
   "execution_count": 11,
   "id": "9146dec5",
   "metadata": {},
   "outputs": [],
   "source": [
    "dice_metric = DiceMetric(include_background=True, reduction=\"mean\", get_not_nans=False)"
   ]
  },
  {
   "cell_type": "code",
   "execution_count": 12,
   "id": "8edd0db8",
   "metadata": {},
   "outputs": [
    {
     "name": "stderr",
     "output_type": "stream",
     "text": [
      "/opt/anaconda3/envs/fed/lib/python3.9/site-packages/monai/transforms/post/array.py:182: UserWarning: `threshold_values=True/False` is deprecated, please use `threshold=value` instead.\n",
      "  warnings.warn(\"`threshold_values=True/False` is deprecated, please use `threshold=value` instead.\")\n"
     ]
    }
   ],
   "source": [
    "post_trans = Compose([EnsureType(), Activations(sigmoid=True), AsDiscrete(threshold_values=True)])"
   ]
  },
  {
   "cell_type": "code",
   "execution_count": 13,
   "id": "83b63cf8",
   "metadata": {
    "scrolled": true
   },
   "outputs": [
    {
     "name": "stdout",
     "output_type": "stream",
     "text": [
      "cpu\n"
     ]
    }
   ],
   "source": [
    "device = torch.device(\"cuda\" if torch.cuda.is_available() else \"cpu\")\n",
    "print(device)"
   ]
  },
  {
   "cell_type": "code",
   "execution_count": 14,
   "id": "8227d67e",
   "metadata": {},
   "outputs": [],
   "source": [
    "model = monai.networks.nets.UNet(\n",
    "    spatial_dims=2,\n",
    "    in_channels=1,\n",
    "    out_channels=1,\n",
    "    channels=(16, 32, 64, 128),\n",
    "    strides=(2, 2, 2),\n",
    "    kernel_size = (3,3),\n",
    "    #dropout = 0.2,\n",
    "    num_res_units=2,\n",
    ").to(device)"
   ]
  },
  {
   "cell_type": "code",
   "execution_count": 15,
   "id": "ba5b1961",
   "metadata": {
    "scrolled": true
   },
   "outputs": [
    {
     "data": {
      "text/plain": [
       "1"
      ]
     },
     "execution_count": 15,
     "metadata": {},
     "output_type": "execute_result"
    }
   ],
   "source": [
    "model.in_channels"
   ]
  },
  {
   "cell_type": "code",
   "execution_count": 16,
   "id": "3ec52129",
   "metadata": {},
   "outputs": [],
   "source": [
    "loss_function = monai.losses.DiceLoss(sigmoid=True)\n",
    "optimizer = torch.optim.Adam(model.parameters(), 1e-3)"
   ]
  },
  {
   "cell_type": "code",
   "execution_count": 17,
   "id": "ee6d051f",
   "metadata": {},
   "outputs": [],
   "source": [
    "# start a typical PyTorch training\n",
    "val_interval = 2\n",
    "best_metric = -1\n",
    "best_metric_epoch = -1\n",
    "epoch_loss_values = list()\n",
    "metric_values = list()\n",
    "writer = SummaryWriter()"
   ]
  },
  {
   "cell_type": "code",
   "execution_count": 18,
   "id": "f2cc2f09",
   "metadata": {},
   "outputs": [],
   "source": [
    "batch_data = next(iter(loader))\n",
    "inputs, labels = torch.swapaxes(batch_data[0][0], 1, -1).to(device), torch.swapaxes(batch_data[1][0], 1, -1).to(device).to(device)"
   ]
  },
  {
   "cell_type": "code",
   "execution_count": 19,
   "id": "1d7b4c35",
   "metadata": {
    "scrolled": true
   },
   "outputs": [
    {
     "name": "stdout",
     "output_type": "stream",
     "text": [
      "torch.Size([1, 1, 224, 224]) torch.Size([1, 1, 224, 224])\n"
     ]
    }
   ],
   "source": [
    "print(inputs.shape,labels.shape)"
   ]
  },
  {
   "cell_type": "code",
   "execution_count": 20,
   "id": "d3609bb4",
   "metadata": {
    "scrolled": true
   },
   "outputs": [
    {
     "data": {
      "text/plain": [
       "UNet(\n",
       "  (model): Sequential(\n",
       "    (0): ResidualUnit(\n",
       "      (conv): Sequential(\n",
       "        (unit0): Convolution(\n",
       "          (conv): Conv2d(1, 16, kernel_size=(3, 3), stride=(2, 2), padding=(1, 1))\n",
       "          (adn): ADN(\n",
       "            (N): InstanceNorm2d(16, eps=1e-05, momentum=0.1, affine=False, track_running_stats=False)\n",
       "            (D): Dropout(p=0.0, inplace=False)\n",
       "            (A): PReLU(num_parameters=1)\n",
       "          )\n",
       "        )\n",
       "        (unit1): Convolution(\n",
       "          (conv): Conv2d(16, 16, kernel_size=(3, 3), stride=(1, 1), padding=(1, 1))\n",
       "          (adn): ADN(\n",
       "            (N): InstanceNorm2d(16, eps=1e-05, momentum=0.1, affine=False, track_running_stats=False)\n",
       "            (D): Dropout(p=0.0, inplace=False)\n",
       "            (A): PReLU(num_parameters=1)\n",
       "          )\n",
       "        )\n",
       "      )\n",
       "      (residual): Conv2d(1, 16, kernel_size=(3, 3), stride=(2, 2), padding=(1, 1))\n",
       "    )\n",
       "    (1): SkipConnection(\n",
       "      (submodule): Sequential(\n",
       "        (0): ResidualUnit(\n",
       "          (conv): Sequential(\n",
       "            (unit0): Convolution(\n",
       "              (conv): Conv2d(16, 32, kernel_size=(3, 3), stride=(2, 2), padding=(1, 1))\n",
       "              (adn): ADN(\n",
       "                (N): InstanceNorm2d(32, eps=1e-05, momentum=0.1, affine=False, track_running_stats=False)\n",
       "                (D): Dropout(p=0.0, inplace=False)\n",
       "                (A): PReLU(num_parameters=1)\n",
       "              )\n",
       "            )\n",
       "            (unit1): Convolution(\n",
       "              (conv): Conv2d(32, 32, kernel_size=(3, 3), stride=(1, 1), padding=(1, 1))\n",
       "              (adn): ADN(\n",
       "                (N): InstanceNorm2d(32, eps=1e-05, momentum=0.1, affine=False, track_running_stats=False)\n",
       "                (D): Dropout(p=0.0, inplace=False)\n",
       "                (A): PReLU(num_parameters=1)\n",
       "              )\n",
       "            )\n",
       "          )\n",
       "          (residual): Conv2d(16, 32, kernel_size=(3, 3), stride=(2, 2), padding=(1, 1))\n",
       "        )\n",
       "        (1): SkipConnection(\n",
       "          (submodule): Sequential(\n",
       "            (0): ResidualUnit(\n",
       "              (conv): Sequential(\n",
       "                (unit0): Convolution(\n",
       "                  (conv): Conv2d(32, 64, kernel_size=(3, 3), stride=(2, 2), padding=(1, 1))\n",
       "                  (adn): ADN(\n",
       "                    (N): InstanceNorm2d(64, eps=1e-05, momentum=0.1, affine=False, track_running_stats=False)\n",
       "                    (D): Dropout(p=0.0, inplace=False)\n",
       "                    (A): PReLU(num_parameters=1)\n",
       "                  )\n",
       "                )\n",
       "                (unit1): Convolution(\n",
       "                  (conv): Conv2d(64, 64, kernel_size=(3, 3), stride=(1, 1), padding=(1, 1))\n",
       "                  (adn): ADN(\n",
       "                    (N): InstanceNorm2d(64, eps=1e-05, momentum=0.1, affine=False, track_running_stats=False)\n",
       "                    (D): Dropout(p=0.0, inplace=False)\n",
       "                    (A): PReLU(num_parameters=1)\n",
       "                  )\n",
       "                )\n",
       "              )\n",
       "              (residual): Conv2d(32, 64, kernel_size=(3, 3), stride=(2, 2), padding=(1, 1))\n",
       "            )\n",
       "            (1): SkipConnection(\n",
       "              (submodule): ResidualUnit(\n",
       "                (conv): Sequential(\n",
       "                  (unit0): Convolution(\n",
       "                    (conv): Conv2d(64, 128, kernel_size=(3, 3), stride=(1, 1), padding=(1, 1))\n",
       "                    (adn): ADN(\n",
       "                      (N): InstanceNorm2d(128, eps=1e-05, momentum=0.1, affine=False, track_running_stats=False)\n",
       "                      (D): Dropout(p=0.0, inplace=False)\n",
       "                      (A): PReLU(num_parameters=1)\n",
       "                    )\n",
       "                  )\n",
       "                  (unit1): Convolution(\n",
       "                    (conv): Conv2d(128, 128, kernel_size=(3, 3), stride=(1, 1), padding=(1, 1))\n",
       "                    (adn): ADN(\n",
       "                      (N): InstanceNorm2d(128, eps=1e-05, momentum=0.1, affine=False, track_running_stats=False)\n",
       "                      (D): Dropout(p=0.0, inplace=False)\n",
       "                      (A): PReLU(num_parameters=1)\n",
       "                    )\n",
       "                  )\n",
       "                )\n",
       "                (residual): Conv2d(64, 128, kernel_size=(1, 1), stride=(1, 1))\n",
       "              )\n",
       "            )\n",
       "            (2): Sequential(\n",
       "              (0): Convolution(\n",
       "                (conv): ConvTranspose2d(192, 32, kernel_size=(3, 3), stride=(2, 2), padding=(1, 1), output_padding=(1, 1))\n",
       "                (adn): ADN(\n",
       "                  (N): InstanceNorm2d(32, eps=1e-05, momentum=0.1, affine=False, track_running_stats=False)\n",
       "                  (D): Dropout(p=0.0, inplace=False)\n",
       "                  (A): PReLU(num_parameters=1)\n",
       "                )\n",
       "              )\n",
       "              (1): ResidualUnit(\n",
       "                (conv): Sequential(\n",
       "                  (unit0): Convolution(\n",
       "                    (conv): Conv2d(32, 32, kernel_size=(3, 3), stride=(1, 1), padding=(1, 1))\n",
       "                    (adn): ADN(\n",
       "                      (N): InstanceNorm2d(32, eps=1e-05, momentum=0.1, affine=False, track_running_stats=False)\n",
       "                      (D): Dropout(p=0.0, inplace=False)\n",
       "                      (A): PReLU(num_parameters=1)\n",
       "                    )\n",
       "                  )\n",
       "                )\n",
       "                (residual): Identity()\n",
       "              )\n",
       "            )\n",
       "          )\n",
       "        )\n",
       "        (2): Sequential(\n",
       "          (0): Convolution(\n",
       "            (conv): ConvTranspose2d(64, 16, kernel_size=(3, 3), stride=(2, 2), padding=(1, 1), output_padding=(1, 1))\n",
       "            (adn): ADN(\n",
       "              (N): InstanceNorm2d(16, eps=1e-05, momentum=0.1, affine=False, track_running_stats=False)\n",
       "              (D): Dropout(p=0.0, inplace=False)\n",
       "              (A): PReLU(num_parameters=1)\n",
       "            )\n",
       "          )\n",
       "          (1): ResidualUnit(\n",
       "            (conv): Sequential(\n",
       "              (unit0): Convolution(\n",
       "                (conv): Conv2d(16, 16, kernel_size=(3, 3), stride=(1, 1), padding=(1, 1))\n",
       "                (adn): ADN(\n",
       "                  (N): InstanceNorm2d(16, eps=1e-05, momentum=0.1, affine=False, track_running_stats=False)\n",
       "                  (D): Dropout(p=0.0, inplace=False)\n",
       "                  (A): PReLU(num_parameters=1)\n",
       "                )\n",
       "              )\n",
       "            )\n",
       "            (residual): Identity()\n",
       "          )\n",
       "        )\n",
       "      )\n",
       "    )\n",
       "    (2): Sequential(\n",
       "      (0): Convolution(\n",
       "        (conv): ConvTranspose2d(32, 1, kernel_size=(3, 3), stride=(2, 2), padding=(1, 1), output_padding=(1, 1))\n",
       "        (adn): ADN(\n",
       "          (N): InstanceNorm2d(1, eps=1e-05, momentum=0.1, affine=False, track_running_stats=False)\n",
       "          (D): Dropout(p=0.0, inplace=False)\n",
       "          (A): PReLU(num_parameters=1)\n",
       "        )\n",
       "      )\n",
       "      (1): ResidualUnit(\n",
       "        (conv): Sequential(\n",
       "          (unit0): Convolution(\n",
       "            (conv): Conv2d(1, 1, kernel_size=(3, 3), stride=(1, 1), padding=(1, 1))\n",
       "          )\n",
       "        )\n",
       "        (residual): Identity()\n",
       "      )\n",
       "    )\n",
       "  )\n",
       ")"
      ]
     },
     "execution_count": 20,
     "metadata": {},
     "output_type": "execute_result"
    }
   ],
   "source": [
    "model.train()"
   ]
  },
  {
   "cell_type": "code",
   "execution_count": 21,
   "id": "a4551319",
   "metadata": {},
   "outputs": [],
   "source": [
    "optimizer.zero_grad()"
   ]
  },
  {
   "cell_type": "code",
   "execution_count": 22,
   "id": "c90b2e86",
   "metadata": {},
   "outputs": [],
   "source": [
    "outputs = model(inputs)"
   ]
  },
  {
   "cell_type": "code",
   "execution_count": 23,
   "id": "853ccc02",
   "metadata": {},
   "outputs": [],
   "source": [
    "loss = loss_function(outputs, labels)"
   ]
  },
  {
   "cell_type": "code",
   "execution_count": 24,
   "id": "b0607e0f",
   "metadata": {},
   "outputs": [],
   "source": [
    "loss.backward()"
   ]
  },
  {
   "cell_type": "code",
   "execution_count": 25,
   "id": "e0695dd2",
   "metadata": {},
   "outputs": [],
   "source": [
    "optimizer.step()"
   ]
  },
  {
   "cell_type": "code",
   "execution_count": null,
   "id": "42049672",
   "metadata": {
    "scrolled": true
   },
   "outputs": [
    {
     "name": "stdout",
     "output_type": "stream",
     "text": [
      "----------\n",
      "epoch 1/10\n",
      "1/94, train_loss: 1.0000\n",
      "2/94, train_loss: 0.9349\n",
      "3/94, train_loss: 0.9954\n",
      "4/94, train_loss: 0.9748\n",
      "5/94, train_loss: 0.9983\n",
      "6/94, train_loss: 0.9788\n",
      "7/94, train_loss: 0.9620\n",
      "8/94, train_loss: 0.9024\n",
      "9/94, train_loss: 0.9852\n",
      "10/94, train_loss: 0.9797\n",
      "11/94, train_loss: 0.8720\n",
      "12/94, train_loss: 0.9923\n",
      "13/94, train_loss: 0.8580\n",
      "14/94, train_loss: 0.9911\n",
      "15/94, train_loss: 0.9749\n",
      "16/94, train_loss: 1.0000\n",
      "17/94, train_loss: 0.9772\n",
      "18/94, train_loss: 0.9704\n",
      "19/94, train_loss: 1.0000\n",
      "20/94, train_loss: 0.9277\n",
      "21/94, train_loss: 0.9187\n",
      "22/94, train_loss: 0.8738\n",
      "23/94, train_loss: 1.0000\n",
      "24/94, train_loss: 0.9124\n",
      "25/94, train_loss: 0.9624\n",
      "26/94, train_loss: 0.8957\n",
      "27/94, train_loss: 0.9583\n",
      "28/94, train_loss: 0.9760\n",
      "29/94, train_loss: 0.9627\n",
      "30/94, train_loss: 0.8689\n",
      "31/94, train_loss: 0.7442\n",
      "32/94, train_loss: 0.9952\n",
      "33/94, train_loss: 0.9606\n",
      "34/94, train_loss: 0.9618\n",
      "35/94, train_loss: 0.9641\n",
      "36/94, train_loss: 0.9513\n",
      "37/94, train_loss: 0.8573\n",
      "38/94, train_loss: 0.7477\n",
      "39/94, train_loss: 0.7550\n",
      "40/94, train_loss: 0.9870\n",
      "41/94, train_loss: 0.9607\n",
      "42/94, train_loss: 0.8179\n",
      "43/94, train_loss: 0.8999\n",
      "44/94, train_loss: 0.9805\n",
      "45/94, train_loss: 0.9545\n",
      "46/94, train_loss: 0.9953\n",
      "47/94, train_loss: 0.9959\n",
      "48/94, train_loss: 1.0000\n",
      "49/94, train_loss: 0.9766\n",
      "50/94, train_loss: 1.0000\n",
      "51/94, train_loss: 0.9989\n",
      "52/94, train_loss: 0.9161\n",
      "53/94, train_loss: 0.8742\n",
      "54/94, train_loss: 0.8758\n",
      "55/94, train_loss: 0.9556\n",
      "56/94, train_loss: 0.9957\n",
      "57/94, train_loss: 0.9489\n",
      "58/94, train_loss: 0.9160\n",
      "59/94, train_loss: 0.9718\n",
      "60/94, train_loss: 0.9707\n",
      "61/94, train_loss: 0.9326\n",
      "62/94, train_loss: 0.9638\n",
      "63/94, train_loss: 0.9471\n",
      "64/94, train_loss: 0.9240\n",
      "65/94, train_loss: 0.9581\n",
      "66/94, train_loss: 0.7826\n",
      "67/94, train_loss: 1.0000\n",
      "68/94, train_loss: 0.7937\n",
      "69/94, train_loss: 0.7497\n",
      "70/94, train_loss: 0.7666\n",
      "71/94, train_loss: 0.9171\n",
      "72/94, train_loss: 0.9783\n",
      "73/94, train_loss: 0.8142\n",
      "74/94, train_loss: 0.8280\n",
      "75/94, train_loss: 0.8060\n",
      "76/94, train_loss: 0.9501\n",
      "77/94, train_loss: 0.9831\n",
      "78/94, train_loss: 0.9713\n",
      "79/94, train_loss: 1.0000\n",
      "80/94, train_loss: 1.0000\n",
      "81/94, train_loss: 0.9862\n",
      "82/94, train_loss: 0.9984\n",
      "83/94, train_loss: 0.9895\n",
      "84/94, train_loss: 0.8134\n",
      "85/94, train_loss: 1.0000\n",
      "86/94, train_loss: 1.0000\n",
      "87/94, train_loss: 0.9559\n",
      "88/94, train_loss: 1.0000\n",
      "89/94, train_loss: 0.9570\n",
      "90/94, train_loss: 1.0000\n",
      "91/94, train_loss: 1.0000\n",
      "92/94, train_loss: 1.0000\n",
      "93/94, train_loss: 1.0000\n",
      "94/94, train_loss: 1.0000\n",
      "epoch 1 average loss: 0.9394\n",
      "----------\n",
      "epoch 2/10\n",
      "1/94, train_loss: 1.0000\n",
      "2/94, train_loss: 0.8936\n",
      "3/94, train_loss: 0.9930\n",
      "4/94, train_loss: 0.9651\n",
      "5/94, train_loss: 0.9975\n",
      "6/94, train_loss: 0.9688\n",
      "7/94, train_loss: 0.9413\n",
      "8/94, train_loss: 0.8792\n",
      "9/94, train_loss: 0.9805\n",
      "10/94, train_loss: 0.9745\n",
      "11/94, train_loss: 0.8431\n",
      "12/94, train_loss: 0.9927\n",
      "13/94, train_loss: 0.8347\n",
      "14/94, train_loss: 0.9894\n",
      "15/94, train_loss: 0.9708\n",
      "16/94, train_loss: 1.0000\n",
      "17/94, train_loss: 0.9736\n",
      "18/94, train_loss: 0.9667\n",
      "19/94, train_loss: 1.0000\n",
      "20/94, train_loss: 0.9170\n",
      "21/94, train_loss: 0.9079\n",
      "22/94, train_loss: 0.8578\n",
      "23/94, train_loss: 1.0000\n",
      "24/94, train_loss: 0.9033\n",
      "25/94, train_loss: 0.9582\n",
      "26/94, train_loss: 0.8872\n",
      "27/94, train_loss: 0.9517\n",
      "28/94, train_loss: 0.9725\n",
      "29/94, train_loss: 0.9594\n",
      "30/94, train_loss: 0.8341\n",
      "31/94, train_loss: 0.7369\n",
      "32/94, train_loss: 0.9948\n",
      "33/94, train_loss: 0.9543\n",
      "34/94, train_loss: 0.9588\n",
      "35/94, train_loss: 0.9610\n",
      "36/94, train_loss: 0.9471\n",
      "37/94, train_loss: 0.8490\n",
      "38/94, train_loss: 0.7454\n",
      "39/94, train_loss: 0.7363\n",
      "40/94, train_loss: 0.9839\n",
      "41/94, train_loss: 0.9586\n",
      "42/94, train_loss: 0.8055\n",
      "43/94, train_loss: 0.8920\n",
      "44/94, train_loss: 0.9793\n",
      "45/94, train_loss: 0.9510\n",
      "46/94, train_loss: 0.9950\n",
      "47/94, train_loss: 0.9954\n",
      "48/94, train_loss: 1.0000\n",
      "49/94, train_loss: 0.9757\n",
      "50/94, train_loss: 1.0000\n",
      "51/94, train_loss: 0.9989\n",
      "52/94, train_loss: 0.9122\n",
      "53/94, train_loss: 0.8631\n",
      "54/94, train_loss: 0.8670\n",
      "55/94, train_loss: 0.9536\n",
      "56/94, train_loss: 0.9958\n",
      "57/94, train_loss: 0.9463\n",
      "58/94, train_loss: 0.9109\n",
      "59/94, train_loss: 0.9701\n",
      "60/94, train_loss: 0.9689\n",
      "61/94, train_loss: 0.9278\n",
      "62/94, train_loss: 0.9607\n",
      "63/94, train_loss: 0.9420\n",
      "64/94, train_loss: 0.9188\n",
      "65/94, train_loss: 0.9570\n",
      "66/94, train_loss: 0.7680\n",
      "67/94, train_loss: 1.0000\n",
      "68/94, train_loss: 0.7658\n",
      "69/94, train_loss: 0.7284\n",
      "70/94, train_loss: 0.7344\n",
      "71/94, train_loss: 0.9116\n",
      "72/94, train_loss: 0.9773\n",
      "73/94, train_loss: 0.7964\n",
      "74/94, train_loss: 0.8131\n",
      "75/94, train_loss: 0.7827\n",
      "76/94, train_loss: 0.9460\n",
      "77/94, train_loss: 0.9811\n",
      "78/94, train_loss: 0.9686\n",
      "79/94, train_loss: 1.0000\n",
      "80/94, train_loss: 1.0000\n",
      "81/94, train_loss: 0.9812\n",
      "82/94, train_loss: 0.9985\n",
      "83/94, train_loss: 0.9882\n",
      "84/94, train_loss: 0.8019\n",
      "85/94, train_loss: 1.0000\n",
      "86/94, train_loss: 1.0000\n",
      "87/94, train_loss: 0.9519\n",
      "88/94, train_loss: 1.0000\n",
      "89/94, train_loss: 0.9503\n",
      "90/94, train_loss: 1.0000\n",
      "91/94, train_loss: 1.0000\n",
      "92/94, train_loss: 1.0000\n",
      "93/94, train_loss: 1.0000\n",
      "94/94, train_loss: 1.0000\n",
      "epoch 2 average loss: 0.9327\n",
      "saved new best metric model\n",
      "current epoch: 2 current mean dice: 0.0378 best mean dice: 0.0378 at epoch 2\n",
      "----------\n",
      "epoch 3/10\n",
      "1/94, train_loss: 1.0000\n",
      "2/94, train_loss: 0.8840\n",
      "3/94, train_loss: 0.9946\n",
      "4/94, train_loss: 0.9667\n",
      "5/94, train_loss: 0.9973\n",
      "6/94, train_loss: 0.9662\n",
      "7/94, train_loss: 0.9365\n",
      "8/94, train_loss: 0.8721\n",
      "9/94, train_loss: 0.9786\n",
      "10/94, train_loss: 0.9721\n",
      "11/94, train_loss: 0.8337\n",
      "12/94, train_loss: 0.9929\n",
      "13/94, train_loss: 0.8276\n",
      "14/94, train_loss: 0.9883\n",
      "15/94, train_loss: 0.9671\n",
      "16/94, train_loss: 1.0000\n",
      "17/94, train_loss: 0.9718\n",
      "18/94, train_loss: 0.9643\n",
      "19/94, train_loss: 1.0000\n",
      "20/94, train_loss: 0.9100\n",
      "21/94, train_loss: 0.9025\n",
      "22/94, train_loss: 0.8468\n",
      "23/94, train_loss: 1.0000\n",
      "24/94, train_loss: 0.8963\n",
      "25/94, train_loss: 0.9553\n",
      "26/94, train_loss: 0.8815\n",
      "27/94, train_loss: 0.9485\n",
      "28/94, train_loss: 0.9680\n",
      "29/94, train_loss: 0.9565\n",
      "30/94, train_loss: 0.8183\n",
      "31/94, train_loss: 0.6955\n",
      "32/94, train_loss: 0.9943\n",
      "33/94, train_loss: 0.9503\n",
      "34/94, train_loss: 0.9561\n",
      "35/94, train_loss: 0.9574\n",
      "36/94, train_loss: 0.9418\n",
      "37/94, train_loss: 0.8337\n",
      "38/94, train_loss: 0.7041\n",
      "39/94, train_loss: 0.7095\n",
      "40/94, train_loss: 0.9823\n",
      "41/94, train_loss: 0.9541\n",
      "42/94, train_loss: 0.7842\n",
      "43/94, train_loss: 0.8826\n",
      "44/94, train_loss: 0.9770\n",
      "45/94, train_loss: 0.9458\n",
      "46/94, train_loss: 0.9946\n",
      "47/94, train_loss: 0.9949\n",
      "48/94, train_loss: 1.0000\n",
      "49/94, train_loss: 0.9732\n",
      "50/94, train_loss: 1.0000\n",
      "51/94, train_loss: 0.9990\n",
      "52/94, train_loss: 0.9028\n",
      "53/94, train_loss: 0.8537\n",
      "54/94, train_loss: 0.8561\n",
      "55/94, train_loss: 0.9507\n",
      "56/94, train_loss: 0.9942\n",
      "57/94, train_loss: 0.9423\n",
      "58/94, train_loss: 0.9033\n",
      "59/94, train_loss: 0.9679\n",
      "60/94, train_loss: 0.9667\n",
      "61/94, train_loss: 0.9218\n",
      "62/94, train_loss: 0.9581\n",
      "63/94, train_loss: 0.9387\n",
      "64/94, train_loss: 0.9124\n",
      "65/94, train_loss: 0.9507\n",
      "66/94, train_loss: 0.7476\n",
      "67/94, train_loss: 1.0000\n",
      "68/94, train_loss: 0.7771\n",
      "69/94, train_loss: 0.7086\n",
      "70/94, train_loss: 0.7379\n",
      "71/94, train_loss: 0.9034\n",
      "72/94, train_loss: 0.9747\n",
      "73/94, train_loss: 0.7806\n",
      "74/94, train_loss: 0.8006\n",
      "75/94, train_loss: 0.7665\n",
      "76/94, train_loss: 0.9432\n",
      "77/94, train_loss: 0.9817\n",
      "78/94, train_loss: 0.9686\n",
      "79/94, train_loss: 1.0000\n",
      "80/94, train_loss: 1.0000\n",
      "81/94, train_loss: 0.9923\n",
      "82/94, train_loss: 0.9985\n",
      "83/94, train_loss: 0.9891\n",
      "84/94, train_loss: 0.7767\n",
      "85/94, train_loss: 1.0000\n",
      "86/94, train_loss: 1.0000\n",
      "87/94, train_loss: 0.9485\n",
      "88/94, train_loss: 1.0000\n",
      "89/94, train_loss: 0.9446\n",
      "90/94, train_loss: 1.0000\n",
      "91/94, train_loss: 1.0000\n",
      "92/94, train_loss: 1.0000\n",
      "93/94, train_loss: 1.0000\n",
      "94/94, train_loss: 1.0000\n",
      "epoch 3 average loss: 0.9275\n",
      "----------\n",
      "epoch 4/10\n",
      "1/94, train_loss: 1.0000\n",
      "2/94, train_loss: 0.8747\n",
      "3/94, train_loss: 0.9910\n",
      "4/94, train_loss: 0.9581\n",
      "5/94, train_loss: 0.9971\n",
      "6/94, train_loss: 0.9634\n",
      "7/94, train_loss: 0.9306\n",
      "8/94, train_loss: 0.8513\n",
      "9/94, train_loss: 0.9772\n",
      "10/94, train_loss: 0.9702\n",
      "11/94, train_loss: 0.8155\n",
      "12/94, train_loss: 0.9890\n",
      "13/94, train_loss: 0.8035\n",
      "14/94, train_loss: 0.9870\n",
      "15/94, train_loss: 0.9648\n",
      "16/94, train_loss: 1.0000\n",
      "17/94, train_loss: 0.9678\n",
      "18/94, train_loss: 0.9603\n",
      "19/94, train_loss: 1.0000\n",
      "20/94, train_loss: 0.9013\n",
      "21/94, train_loss: 0.8960\n",
      "22/94, train_loss: 0.8351\n",
      "23/94, train_loss: 1.0000\n",
      "24/94, train_loss: 0.8832\n"
     ]
    },
    {
     "name": "stdout",
     "output_type": "stream",
     "text": [
      "25/94, train_loss: 0.9502\n",
      "26/94, train_loss: 0.8688\n",
      "27/94, train_loss: 0.9435\n",
      "28/94, train_loss: 0.9670\n",
      "29/94, train_loss: 0.9515\n",
      "30/94, train_loss: 0.7984\n",
      "31/94, train_loss: 0.6638\n",
      "32/94, train_loss: 0.9937\n",
      "33/94, train_loss: 0.9450\n",
      "34/94, train_loss: 0.9521\n",
      "35/94, train_loss: 0.9525\n",
      "36/94, train_loss: 0.9350\n",
      "37/94, train_loss: 0.8151\n",
      "38/94, train_loss: 0.6761\n",
      "39/94, train_loss: 0.6777\n",
      "40/94, train_loss: 0.9804\n",
      "41/94, train_loss: 0.9489\n",
      "42/94, train_loss: 0.7649\n",
      "43/94, train_loss: 0.8688\n",
      "44/94, train_loss: 0.9743\n",
      "45/94, train_loss: 0.9401\n",
      "46/94, train_loss: 0.9938\n",
      "47/94, train_loss: 0.9942\n",
      "48/94, train_loss: 1.0000\n",
      "49/94, train_loss: 0.9698\n",
      "50/94, train_loss: 1.0000\n",
      "51/94, train_loss: 0.9992\n",
      "52/94, train_loss: 0.8920\n",
      "53/94, train_loss: 0.8301\n",
      "54/94, train_loss: 0.8379\n",
      "55/94, train_loss: 0.9453\n",
      "56/94, train_loss: 0.9943\n",
      "57/94, train_loss: 0.9352\n",
      "58/94, train_loss: 0.8905\n",
      "59/94, train_loss: 0.9633\n",
      "60/94, train_loss: 0.9618\n",
      "61/94, train_loss: 0.9099\n",
      "62/94, train_loss: 0.9515\n",
      "63/94, train_loss: 0.9286\n",
      "64/94, train_loss: 0.8992\n",
      "65/94, train_loss: 0.9434\n",
      "66/94, train_loss: 0.7142\n",
      "67/94, train_loss: 1.0000\n",
      "68/94, train_loss: 0.7170\n",
      "69/94, train_loss: 0.6652\n",
      "70/94, train_loss: 0.6797\n",
      "71/94, train_loss: 0.8908\n",
      "72/94, train_loss: 0.9708\n",
      "73/94, train_loss: 0.7481\n",
      "74/94, train_loss: 0.7695\n",
      "75/94, train_loss: 0.7262\n",
      "76/94, train_loss: 0.9325\n",
      "77/94, train_loss: 0.9762\n",
      "78/94, train_loss: 0.9621\n",
      "79/94, train_loss: 1.0000\n",
      "80/94, train_loss: 1.0000\n",
      "81/94, train_loss: 0.9808\n",
      "82/94, train_loss: 0.9988\n",
      "83/94, train_loss: 0.9856\n",
      "84/94, train_loss: 0.7486\n",
      "85/94, train_loss: 1.0000\n",
      "86/94, train_loss: 1.0000\n",
      "87/94, train_loss: 0.9397\n",
      "88/94, train_loss: 1.0000\n",
      "89/94, train_loss: 0.9351\n",
      "90/94, train_loss: 1.0000\n",
      "91/94, train_loss: 1.0000\n",
      "92/94, train_loss: 1.0000\n",
      "93/94, train_loss: 1.0000\n",
      "94/94, train_loss: 1.0000\n",
      "epoch 4 average loss: 0.9177\n"
     ]
    }
   ],
   "source": [
    "for epoch in range(10):\n",
    "    print(\"-\" * 10)\n",
    "    print(f\"epoch {epoch + 1}/{10}\")\n",
    "    model.train()\n",
    "    epoch_loss = 0\n",
    "    step = 0\n",
    "    for batch_data in loader:\n",
    "        step += 1\n",
    "        #inputs, labels = batch_data[0].to(device), batch_data[1].to(device)\n",
    "        #Swaping axes to have a batch of Batch_size, Channels, width and height\n",
    "        inputs, labels = torch.swapaxes(batch_data[0][0], 1, -1).to(device), torch.swapaxes(batch_data[1][0], 1, -1).to(device).to(device)\n",
    "        optimizer.zero_grad()\n",
    "        outputs = model(inputs)\n",
    "        loss = loss_function(outputs, labels)\n",
    "        loss.backward()\n",
    "        optimizer.step()\n",
    "        epoch_loss += loss.item()\n",
    "        epoch_len = len(loader) // loader.batch_size\n",
    "        print(f\"{step}/{epoch_len}, train_loss: {loss.item():.4f}\")\n",
    "        writer.add_scalar(\"train_loss\", loss.item(), epoch_len * epoch + step)\n",
    "    epoch_loss /= step\n",
    "    epoch_loss_values.append(epoch_loss)\n",
    "    print(f\"epoch {epoch + 1} average loss: {epoch_loss:.4f}\")\n",
    "    \n",
    "    if (epoch + 1) % val_interval == 0:\n",
    "        model.eval()\n",
    "        with torch.no_grad():\n",
    "            val_images = None\n",
    "            val_labels = None\n",
    "            val_outputs = None\n",
    "            for val_data in val_loader:\n",
    "                val_images, val_labels = val_data[0].to(device), val_data[1].to(device)\n",
    "                roi_size = (128, 128)\n",
    "                sw_batch_size = 1\n",
    "                val_outputs = [sliding_window_inference(val_images[:,:,:,:,i], roi_size, sw_batch_size, model) for i in range(val_images.shape[-1])]\n",
    "                val_outputs = torch.stack(val_outputs,dim=4)\n",
    "                val_outputs = [post_trans(i) for i in decollate_batch(val_outputs)]\n",
    "                # compute metric for current iteration\n",
    "                dice_metric(y_pred=val_outputs, y=val_labels)\n",
    "            # aggregate the final mean dice result\n",
    "            metric = dice_metric.aggregate().item()\n",
    "            # reset the status for next validation round\n",
    "            dice_metric.reset()\n",
    "            metric_values.append(metric)\n",
    "            if metric > best_metric:\n",
    "                best_metric = metric\n",
    "                best_metric_epoch = epoch + 1\n",
    "                torch.save(model.state_dict(), \"best_metric_model_segmentation2d_array.pth\")\n",
    "                print(\"saved new best metric model\")\n",
    "            print(\n",
    "                \"current epoch: {} current mean dice: {:.4f} best mean dice: {:.4f} at epoch {}\".format(\n",
    "                    epoch + 1, metric, best_metric, best_metric_epoch\n",
    "                )\n",
    "            )\n",
    "            writer.add_scalar(\"val_mean_dice\", metric, epoch + 1)"
   ]
  },
  {
   "cell_type": "code",
   "execution_count": 95,
   "id": "3bc8c522",
   "metadata": {},
   "outputs": [
    {
     "data": {
      "text/plain": [
       "<matplotlib.image.AxesImage at 0x7fd50588d970>"
      ]
     },
     "execution_count": 95,
     "metadata": {},
     "output_type": "execute_result"
    },
    {
     "data": {
      "image/png": "[encoded data removed]",
      "text/plain": [
       "<Figure size 432x288 with 1 Axes>"
      ]
     },
     "metadata": {
      "needs_background": "light"
     },
     "output_type": "display_data"
    }
   ],
   "source": [
    "plt.imshow(val_outputs[0,0,:,:,0].detach().numpy())"
   ]
  }
 ],
 "metadata": {
  "kernelspec": {
   "display_name": "Python 3 (ipykernel)",
   "language": "python",
   "name": "python3"
  },
  "language_info": {
   "codemirror_mode": {
    "name": "ipython",
    "version": 3
   },
   "file_extension": ".py",
   "mimetype": "text/x-python",
   "name": "python",
   "nbconvert_exporter": "python",
   "pygments_lexer": "ipython3",
   "version": "3.9.7"
  }
 },
 "nbformat": 4,
 "nbformat_minor": 5
}
