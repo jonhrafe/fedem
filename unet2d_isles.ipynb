{
 "cells": [
  {
   "cell_type": "code",
   "execution_count": 62,
   "id": "3ae163b3",
   "metadata": {
    "scrolled": true
   },
   "outputs": [
    {
     "name": "stdout",
     "output_type": "stream",
     "text": [
      "0.7.0\n",
      "MONAI version: 0.7.0\n",
      "Numpy version: 1.21.2\n",
      "Pytorch version: 1.10.0\n",
      "MONAI flags: HAS_EXT = False, USE_COMPILED = False\n",
      "MONAI rev id: bfa054b9c3064628a21f4c35bbe3132964e91f43\n",
      "\n",
      "Optional dependencies:\n",
      "Pytorch Ignite version: NOT INSTALLED or UNKNOWN VERSION.\n",
      "Nibabel version: 3.2.1\n",
      "scikit-image version: NOT INSTALLED or UNKNOWN VERSION.\n",
      "Pillow version: 8.4.0\n",
      "Tensorboard version: 2.7.0\n",
      "gdown version: NOT INSTALLED or UNKNOWN VERSION.\n",
      "TorchVision version: 0.11.1\n",
      "tqdm version: 4.62.3\n",
      "lmdb version: NOT INSTALLED or UNKNOWN VERSION.\n",
      "psutil version: NOT INSTALLED or UNKNOWN VERSION.\n",
      "pandas version: 1.3.4\n",
      "einops version: NOT INSTALLED or UNKNOWN VERSION.\n",
      "transformers version: NOT INSTALLED or UNKNOWN VERSION.\n",
      "\n",
      "For details about installing the optional dependencies, please visit:\n",
      "    https://docs.monai.io/en/latest/installation.html#installing-the-recommended-dependencies\n",
      "\n"
     ]
    }
   ],
   "source": [
    "import nibabel as nib #to read the niftis\n",
    "from glob import glob #to quicly read the nifti paths\n",
    "import logging # for printing monai info\n",
    "import sys # for printing monai info\n",
    "import monai #for this experiment monai will be the main framework for 2d segmentation\n",
    "import torch\n",
    "from monai.transforms import (\n",
    "    Activations,\n",
    "    AsChannelFirstD,\n",
    "    AddChannel,\n",
    "    AsDiscrete,\n",
    "    Compose,\n",
    "    LoadImage,\n",
    "    RandRotate90,\n",
    "    RandSpatialCrop,\n",
    "    ScaleIntensity,\n",
    "    EnsureType,\n",
    "    Resized\n",
    ")\n",
    "from torch.utils.tensorboard import SummaryWriter\n",
    "\n",
    "from monai.data import (\n",
    "    ArrayDataset, GridPatchDataset, create_test_image_3d, PatchIter) #Aparently this allow to read direcly a set of niftis\n",
    "from monai.utils import first\n",
    "from matplotlib import pyplot as plt\n",
    "from monai.metrics import DiceMetric\n",
    "\n",
    "import numpy as np\n",
    "print(monai.__version__) \n",
    "monai.config.print_config()\n",
    "logging.basicConfig(stream=sys.stdout, level=logging.INFO)\n"
   ]
  },
  {
   "cell_type": "code",
   "execution_count": 3,
   "id": "5ef4ea90",
   "metadata": {},
   "outputs": [],
   "source": [
    "isles_data_root = '/Users/sebastianotalora/work/postdoc/data/ISLES/TRAINING/'"
   ]
  },
  {
   "cell_type": "code",
   "execution_count": 4,
   "id": "277c7895",
   "metadata": {
    "scrolled": true
   },
   "outputs": [
    {
     "name": "stdout",
     "output_type": "stream",
     "text": [
      "/Users/sebastianotalora/work/postdoc/data/ISLES/TRAINING/case_94/SMIR.Brain.XX.O.CT_CBF.346202/SMIR.Brain.XX.O.CT_CBF.346202.nii\n"
     ]
    }
   ],
   "source": [
    "cbf_paths = sorted(glob(isles_data_root+'*/*CBF*/*nii'))\n",
    "cbv_paths = sorted(glob(isles_data_root+'*/*CBV*/*nii'))\n",
    "mtt_paths = sorted(glob(isles_data_root+'*/*MTT*/*nii'))\n",
    "tmx_paths = sorted(glob(isles_data_root+'*/*Tmax*/*nii'))\n",
    "lbl_paths = sorted(glob(isles_data_root+'*/*OT*/*nii'))\n",
    "print(cbf_paths[-1])"
   ]
  },
  {
   "cell_type": "code",
   "execution_count": 67,
   "id": "dfdadbc7",
   "metadata": {},
   "outputs": [],
   "source": [
    "imtrans = Compose(\n",
    "    [   LoadImage(image_only=True),\n",
    "        ScaleIntensity(),\n",
    "        AddChannel(),\n",
    "        RandSpatialCrop((224, 224,1), random_size=False),\n",
    "        EnsureType(),\n",
    "        #Resized\n",
    "    ]\n",
    ")\n",
    "\n",
    "segtrans = Compose(\n",
    "    [   LoadImage(image_only=True),\n",
    "        AddChannel(),\n",
    "        RandSpatialCrop((224, 224,1), random_size=False),\n",
    "        EnsureType(),\n",
    "        #Resized\n",
    "    ]\n",
    ")"
   ]
  },
  {
   "cell_type": "code",
   "execution_count": 68,
   "id": "b2a7230c",
   "metadata": {},
   "outputs": [],
   "source": [
    "ds = ArrayDataset(cbf_paths, imtrans, lbl_paths, segtrans)"
   ]
  },
  {
   "cell_type": "code",
   "execution_count": 69,
   "id": "36e88be5",
   "metadata": {
    "scrolled": true
   },
   "outputs": [
    {
     "name": "stdout",
     "output_type": "stream",
     "text": [
      "torch.Size([1, 1, 224, 224, 1]) torch.Size([1, 1, 224, 224, 1])\n"
     ]
    }
   ],
   "source": [
    "loader = torch.utils.data.DataLoader(\n",
    "    ds, batch_size=1, num_workers=1, pin_memory=torch.cuda.is_available()\n",
    ")\n",
    "im, seg = first(loader)\n",
    "print(im.shape, seg.shape)"
   ]
  },
  {
   "cell_type": "code",
   "execution_count": 8,
   "id": "4f3df8dc",
   "metadata": {
    "scrolled": true
   },
   "outputs": [
    {
     "data": {
      "text/plain": [
       "<matplotlib.image.AxesImage at 0x7fa8482ff670>"
      ]
     },
     "execution_count": 8,
     "metadata": {},
     "output_type": "execute_result"
    },
    {
     "data": {
      "image/png": "[encoded data removed]",
      "text/plain": [
       "<Figure size 432x288 with 1 Axes>"
      ]
     },
     "metadata": {
      "needs_background": "light"
     },
     "output_type": "display_data"
    }
   ],
   "source": [
    "sample_im, sample_seg = im.numpy(), seg.numpy()\n",
    "plt.imshow(sample_im[0,0,:,:,0],cmap='jet')"
   ]
  },
  {
   "cell_type": "code",
   "execution_count": 9,
   "id": "a523e1cf",
   "metadata": {
    "scrolled": true
   },
   "outputs": [
    {
     "data": {
      "text/plain": [
       "<matplotlib.image.AxesImage at 0x7fa7d80eb190>"
      ]
     },
     "execution_count": 9,
     "metadata": {},
     "output_type": "execute_result"
    },
    {
     "data": {
      "image/png": "[encoded data removed]",
      "text/plain": [
       "<Figure size 432x288 with 1 Axes>"
      ]
     },
     "metadata": {
      "needs_background": "light"
     },
     "output_type": "display_data"
    }
   ],
   "source": [
    "plt.imshow(sample_seg[0,0,:,:,0],cmap='jet')"
   ]
  },
  {
   "cell_type": "code",
   "execution_count": 10,
   "id": "9146dec5",
   "metadata": {},
   "outputs": [],
   "source": [
    "dice_metric = DiceMetric(include_background=True, reduction=\"mean\", get_not_nans=False)"
   ]
  },
  {
   "cell_type": "code",
   "execution_count": 11,
   "id": "8edd0db8",
   "metadata": {},
   "outputs": [],
   "source": [
    "post_trans = Compose([EnsureType(), Activations(sigmoid=True), AsDiscrete(threshold_values=True)])"
   ]
  },
  {
   "cell_type": "code",
   "execution_count": 12,
   "id": "83b63cf8",
   "metadata": {
    "scrolled": true
   },
   "outputs": [
    {
     "name": "stdout",
     "output_type": "stream",
     "text": [
      "cpu\n"
     ]
    }
   ],
   "source": [
    "device = torch.device(\"cuda\" if torch.cuda.is_available() else \"cpu\")\n",
    "print(device)"
   ]
  },
  {
   "cell_type": "code",
   "execution_count": 38,
   "id": "9ea8428d",
   "metadata": {},
   "outputs": [],
   "source": [
    "model = monai.networks.nets.UNet(\n",
    "    spatial_dims=2,\n",
    "    in_channels=1,\n",
    "    out_channels=1,\n",
    "    channels=(16, 32, 64, 128),\n",
    "    strides=(2, 2, 2),\n",
    "    kernel_size = (3,3),\n",
    "    #dropout = 0.2,\n",
    "    num_res_units=2,\n",
    ").to(device)"
   ]
  },
  {
   "cell_type": "code",
   "execution_count": 39,
   "id": "43963a25",
   "metadata": {
    "scrolled": true
   },
   "outputs": [
    {
     "data": {
      "text/plain": [
       "1"
      ]
     },
     "execution_count": 39,
     "metadata": {},
     "output_type": "execute_result"
    }
   ],
   "source": [
    "model.in_channels"
   ]
  },
  {
   "cell_type": "code",
   "execution_count": 40,
   "id": "3ec52129",
   "metadata": {},
   "outputs": [],
   "source": [
    "loss_function = monai.losses.DiceLoss(sigmoid=True)\n",
    "optimizer = torch.optim.Adam(model.parameters(), 1e-3)"
   ]
  },
  {
   "cell_type": "code",
   "execution_count": 41,
   "id": "ee6d051f",
   "metadata": {},
   "outputs": [],
   "source": [
    "# start a typical PyTorch training\n",
    "val_interval = 2\n",
    "best_metric = -1\n",
    "best_metric_epoch = -1\n",
    "epoch_loss_values = list()\n",
    "metric_values = list()\n",
    "writer = SummaryWriter()"
   ]
  },
  {
   "cell_type": "code",
   "execution_count": 85,
   "id": "05a44dc5",
   "metadata": {},
   "outputs": [
    {
     "data": {
      "text/plain": [
       "torch.Size([1, 224, 224, 1])"
      ]
     },
     "execution_count": 85,
     "metadata": {},
     "output_type": "execute_result"
    }
   ],
   "source": [
    "batch_data[1][0].shape"
   ]
  },
  {
   "cell_type": "code",
   "execution_count": 83,
   "id": "b50ae60e",
   "metadata": {},
   "outputs": [
    {
     "data": {
      "text/plain": [
       "torch.Size([1, 1, 224, 224])"
      ]
     },
     "execution_count": 83,
     "metadata": {},
     "output_type": "execute_result"
    }
   ],
   "source": [
    "torch.swapaxes(batch_data[0][0], 1, -1).shape"
   ]
  },
  {
   "cell_type": "code",
   "execution_count": 89,
   "id": "223963d8",
   "metadata": {},
   "outputs": [],
   "source": [
    "batch_data = next(iter(loader))\n",
    "inputs, labels = torch.swapaxes(batch_data[0][0], 1, -1).to(device), torch.swapaxes(batch_data[1][0], 1, -1).to(device).to(device)"
   ]
  },
  {
   "cell_type": "code",
   "execution_count": 90,
   "id": "fb2dec60",
   "metadata": {
    "scrolled": true
   },
   "outputs": [
    {
     "name": "stdout",
     "output_type": "stream",
     "text": [
      "torch.Size([1, 1, 224, 224]) torch.Size([1, 1, 224, 224])\n"
     ]
    }
   ],
   "source": [
    "print(inputs.shape,labels.shape)"
   ]
  },
  {
   "cell_type": "code",
   "execution_count": 91,
   "id": "8416d01b",
   "metadata": {},
   "outputs": [
    {
     "data": {
      "text/plain": [
       "UNet(\n",
       "  (model): Sequential(\n",
       "    (0): ResidualUnit(\n",
       "      (conv): Sequential(\n",
       "        (unit0): Convolution(\n",
       "          (conv): Conv2d(1, 16, kernel_size=(3, 3), stride=(2, 2), padding=(1, 1))\n",
       "          (adn): ADN(\n",
       "            (N): InstanceNorm2d(16, eps=1e-05, momentum=0.1, affine=False, track_running_stats=False)\n",
       "            (D): Dropout(p=0.0, inplace=False)\n",
       "            (A): PReLU(num_parameters=1)\n",
       "          )\n",
       "        )\n",
       "        (unit1): Convolution(\n",
       "          (conv): Conv2d(16, 16, kernel_size=(3, 3), stride=(1, 1), padding=(1, 1))\n",
       "          (adn): ADN(\n",
       "            (N): InstanceNorm2d(16, eps=1e-05, momentum=0.1, affine=False, track_running_stats=False)\n",
       "            (D): Dropout(p=0.0, inplace=False)\n",
       "            (A): PReLU(num_parameters=1)\n",
       "          )\n",
       "        )\n",
       "      )\n",
       "      (residual): Conv2d(1, 16, kernel_size=(3, 3), stride=(2, 2), padding=(1, 1))\n",
       "    )\n",
       "    (1): SkipConnection(\n",
       "      (submodule): Sequential(\n",
       "        (0): ResidualUnit(\n",
       "          (conv): Sequential(\n",
       "            (unit0): Convolution(\n",
       "              (conv): Conv2d(16, 32, kernel_size=(3, 3), stride=(2, 2), padding=(1, 1))\n",
       "              (adn): ADN(\n",
       "                (N): InstanceNorm2d(32, eps=1e-05, momentum=0.1, affine=False, track_running_stats=False)\n",
       "                (D): Dropout(p=0.0, inplace=False)\n",
       "                (A): PReLU(num_parameters=1)\n",
       "              )\n",
       "            )\n",
       "            (unit1): Convolution(\n",
       "              (conv): Conv2d(32, 32, kernel_size=(3, 3), stride=(1, 1), padding=(1, 1))\n",
       "              (adn): ADN(\n",
       "                (N): InstanceNorm2d(32, eps=1e-05, momentum=0.1, affine=False, track_running_stats=False)\n",
       "                (D): Dropout(p=0.0, inplace=False)\n",
       "                (A): PReLU(num_parameters=1)\n",
       "              )\n",
       "            )\n",
       "          )\n",
       "          (residual): Conv2d(16, 32, kernel_size=(3, 3), stride=(2, 2), padding=(1, 1))\n",
       "        )\n",
       "        (1): SkipConnection(\n",
       "          (submodule): Sequential(\n",
       "            (0): ResidualUnit(\n",
       "              (conv): Sequential(\n",
       "                (unit0): Convolution(\n",
       "                  (conv): Conv2d(32, 64, kernel_size=(3, 3), stride=(2, 2), padding=(1, 1))\n",
       "                  (adn): ADN(\n",
       "                    (N): InstanceNorm2d(64, eps=1e-05, momentum=0.1, affine=False, track_running_stats=False)\n",
       "                    (D): Dropout(p=0.0, inplace=False)\n",
       "                    (A): PReLU(num_parameters=1)\n",
       "                  )\n",
       "                )\n",
       "                (unit1): Convolution(\n",
       "                  (conv): Conv2d(64, 64, kernel_size=(3, 3), stride=(1, 1), padding=(1, 1))\n",
       "                  (adn): ADN(\n",
       "                    (N): InstanceNorm2d(64, eps=1e-05, momentum=0.1, affine=False, track_running_stats=False)\n",
       "                    (D): Dropout(p=0.0, inplace=False)\n",
       "                    (A): PReLU(num_parameters=1)\n",
       "                  )\n",
       "                )\n",
       "              )\n",
       "              (residual): Conv2d(32, 64, kernel_size=(3, 3), stride=(2, 2), padding=(1, 1))\n",
       "            )\n",
       "            (1): SkipConnection(\n",
       "              (submodule): ResidualUnit(\n",
       "                (conv): Sequential(\n",
       "                  (unit0): Convolution(\n",
       "                    (conv): Conv2d(64, 128, kernel_size=(3, 3), stride=(1, 1), padding=(1, 1))\n",
       "                    (adn): ADN(\n",
       "                      (N): InstanceNorm2d(128, eps=1e-05, momentum=0.1, affine=False, track_running_stats=False)\n",
       "                      (D): Dropout(p=0.0, inplace=False)\n",
       "                      (A): PReLU(num_parameters=1)\n",
       "                    )\n",
       "                  )\n",
       "                  (unit1): Convolution(\n",
       "                    (conv): Conv2d(128, 128, kernel_size=(3, 3), stride=(1, 1), padding=(1, 1))\n",
       "                    (adn): ADN(\n",
       "                      (N): InstanceNorm2d(128, eps=1e-05, momentum=0.1, affine=False, track_running_stats=False)\n",
       "                      (D): Dropout(p=0.0, inplace=False)\n",
       "                      (A): PReLU(num_parameters=1)\n",
       "                    )\n",
       "                  )\n",
       "                )\n",
       "                (residual): Conv2d(64, 128, kernel_size=(1, 1), stride=(1, 1))\n",
       "              )\n",
       "            )\n",
       "            (2): Sequential(\n",
       "              (0): Convolution(\n",
       "                (conv): ConvTranspose2d(192, 32, kernel_size=(3, 3), stride=(2, 2), padding=(1, 1), output_padding=(1, 1))\n",
       "                (adn): ADN(\n",
       "                  (N): InstanceNorm2d(32, eps=1e-05, momentum=0.1, affine=False, track_running_stats=False)\n",
       "                  (D): Dropout(p=0.0, inplace=False)\n",
       "                  (A): PReLU(num_parameters=1)\n",
       "                )\n",
       "              )\n",
       "              (1): ResidualUnit(\n",
       "                (conv): Sequential(\n",
       "                  (unit0): Convolution(\n",
       "                    (conv): Conv2d(32, 32, kernel_size=(3, 3), stride=(1, 1), padding=(1, 1))\n",
       "                    (adn): ADN(\n",
       "                      (N): InstanceNorm2d(32, eps=1e-05, momentum=0.1, affine=False, track_running_stats=False)\n",
       "                      (D): Dropout(p=0.0, inplace=False)\n",
       "                      (A): PReLU(num_parameters=1)\n",
       "                    )\n",
       "                  )\n",
       "                )\n",
       "                (residual): Identity()\n",
       "              )\n",
       "            )\n",
       "          )\n",
       "        )\n",
       "        (2): Sequential(\n",
       "          (0): Convolution(\n",
       "            (conv): ConvTranspose2d(64, 16, kernel_size=(3, 3), stride=(2, 2), padding=(1, 1), output_padding=(1, 1))\n",
       "            (adn): ADN(\n",
       "              (N): InstanceNorm2d(16, eps=1e-05, momentum=0.1, affine=False, track_running_stats=False)\n",
       "              (D): Dropout(p=0.0, inplace=False)\n",
       "              (A): PReLU(num_parameters=1)\n",
       "            )\n",
       "          )\n",
       "          (1): ResidualUnit(\n",
       "            (conv): Sequential(\n",
       "              (unit0): Convolution(\n",
       "                (conv): Conv2d(16, 16, kernel_size=(3, 3), stride=(1, 1), padding=(1, 1))\n",
       "                (adn): ADN(\n",
       "                  (N): InstanceNorm2d(16, eps=1e-05, momentum=0.1, affine=False, track_running_stats=False)\n",
       "                  (D): Dropout(p=0.0, inplace=False)\n",
       "                  (A): PReLU(num_parameters=1)\n",
       "                )\n",
       "              )\n",
       "            )\n",
       "            (residual): Identity()\n",
       "          )\n",
       "        )\n",
       "      )\n",
       "    )\n",
       "    (2): Sequential(\n",
       "      (0): Convolution(\n",
       "        (conv): ConvTranspose2d(32, 1, kernel_size=(3, 3), stride=(2, 2), padding=(1, 1), output_padding=(1, 1))\n",
       "        (adn): ADN(\n",
       "          (N): InstanceNorm2d(1, eps=1e-05, momentum=0.1, affine=False, track_running_stats=False)\n",
       "          (D): Dropout(p=0.0, inplace=False)\n",
       "          (A): PReLU(num_parameters=1)\n",
       "        )\n",
       "      )\n",
       "      (1): ResidualUnit(\n",
       "        (conv): Sequential(\n",
       "          (unit0): Convolution(\n",
       "            (conv): Conv2d(1, 1, kernel_size=(3, 3), stride=(1, 1), padding=(1, 1))\n",
       "          )\n",
       "        )\n",
       "        (residual): Identity()\n",
       "      )\n",
       "    )\n",
       "  )\n",
       ")"
      ]
     },
     "execution_count": 91,
     "metadata": {},
     "output_type": "execute_result"
    }
   ],
   "source": [
    "model.train()"
   ]
  },
  {
   "cell_type": "code",
   "execution_count": 92,
   "id": "8e9322fa",
   "metadata": {},
   "outputs": [],
   "source": [
    "optimizer.zero_grad()"
   ]
  },
  {
   "cell_type": "code",
   "execution_count": 93,
   "id": "ffa2b5d4",
   "metadata": {},
   "outputs": [],
   "source": [
    "outputs = model(inputs)"
   ]
  },
  {
   "cell_type": "code",
   "execution_count": 94,
   "id": "ac7a76d1",
   "metadata": {},
   "outputs": [],
   "source": [
    "loss = loss_function(outputs, labels)"
   ]
  },
  {
   "cell_type": "code",
   "execution_count": 95,
   "id": "dade09ba",
   "metadata": {},
   "outputs": [],
   "source": [
    "loss.backward()"
   ]
  },
  {
   "cell_type": "code",
   "execution_count": 96,
   "id": "dc4e9b4b",
   "metadata": {},
   "outputs": [],
   "source": [
    "optimizer.step()"
   ]
  },
  {
   "cell_type": "code",
   "execution_count": 97,
   "id": "4b21f2a6",
   "metadata": {},
   "outputs": [
    {
     "name": "stdout",
     "output_type": "stream",
     "text": [
      "----------\n",
      "epoch 1/10\n",
      "1/94, train_loss: 0.9779\n",
      "2/94, train_loss: 0.9279\n",
      "3/94, train_loss: 1.0000\n",
      "4/94, train_loss: 0.9413\n",
      "5/94, train_loss: 0.9635\n",
      "6/94, train_loss: 1.0000\n",
      "7/94, train_loss: 0.9510\n",
      "8/94, train_loss: 0.8938\n",
      "9/94, train_loss: 0.9661\n",
      "10/94, train_loss: 0.9902\n",
      "11/94, train_loss: 0.8514\n",
      "12/94, train_loss: 1.0000\n",
      "13/94, train_loss: 0.8068\n",
      "14/94, train_loss: 1.0000\n",
      "15/94, train_loss: 0.9732\n",
      "16/94, train_loss: 1.0000\n",
      "17/94, train_loss: 0.9788\n",
      "18/94, train_loss: 0.9675\n",
      "19/94, train_loss: 0.9842\n",
      "20/94, train_loss: 0.9291\n",
      "21/94, train_loss: 0.9044\n",
      "22/94, train_loss: 0.8858\n",
      "23/94, train_loss: 1.0000\n",
      "24/94, train_loss: 0.8765\n",
      "25/94, train_loss: 0.9584\n",
      "26/94, train_loss: 0.8755\n",
      "27/94, train_loss: 0.9053\n",
      "28/94, train_loss: 0.9221\n",
      "29/94, train_loss: 0.9583\n",
      "30/94, train_loss: 0.8456\n",
      "31/94, train_loss: 0.7170\n",
      "32/94, train_loss: 0.9821\n",
      "33/94, train_loss: 0.9609\n",
      "34/94, train_loss: 0.9559\n",
      "35/94, train_loss: 0.9579\n",
      "36/94, train_loss: 0.9870\n",
      "37/94, train_loss: 0.9034\n",
      "38/94, train_loss: 0.6905\n",
      "39/94, train_loss: 0.7129\n",
      "40/94, train_loss: 0.9847\n",
      "41/94, train_loss: 0.9569\n",
      "42/94, train_loss: 0.8042\n",
      "43/94, train_loss: 0.7937\n",
      "44/94, train_loss: 1.0000\n",
      "45/94, train_loss: 0.9710\n",
      "46/94, train_loss: 0.9652\n",
      "47/94, train_loss: 0.9975\n",
      "48/94, train_loss: 0.9796\n",
      "49/94, train_loss: 1.0000\n",
      "50/94, train_loss: 1.0000\n",
      "51/94, train_loss: 0.9989\n",
      "52/94, train_loss: 0.9255\n",
      "53/94, train_loss: 0.8569\n",
      "54/94, train_loss: 0.8618\n",
      "55/94, train_loss: 0.9556\n",
      "56/94, train_loss: 0.9992\n",
      "57/94, train_loss: 0.9431\n",
      "58/94, train_loss: 0.9071\n",
      "59/94, train_loss: 0.9689\n",
      "60/94, train_loss: 0.9918\n",
      "61/94, train_loss: 0.9255\n",
      "62/94, train_loss: 0.9599\n",
      "63/94, train_loss: 0.9424\n",
      "64/94, train_loss: 1.0000\n",
      "65/94, train_loss: 0.8493\n",
      "66/94, train_loss: 0.7638\n",
      "67/94, train_loss: 1.0000\n",
      "68/94, train_loss: 0.7391\n",
      "69/94, train_loss: 0.7263\n",
      "70/94, train_loss: 0.7627\n",
      "71/94, train_loss: 0.9099\n",
      "72/94, train_loss: 0.9755\n",
      "73/94, train_loss: 0.8003\n",
      "74/94, train_loss: 0.8117\n",
      "75/94, train_loss: 0.7757\n",
      "76/94, train_loss: 0.9456\n",
      "77/94, train_loss: 0.9959\n",
      "78/94, train_loss: 1.0000\n",
      "79/94, train_loss: 1.0000\n",
      "80/94, train_loss: 0.9531\n",
      "81/94, train_loss: 1.0000\n",
      "82/94, train_loss: 1.0000\n",
      "83/94, train_loss: 0.9116\n",
      "84/94, train_loss: 1.0000\n",
      "85/94, train_loss: 1.0000\n",
      "86/94, train_loss: 1.0000\n",
      "87/94, train_loss: 1.0000\n",
      "88/94, train_loss: 1.0000\n",
      "89/94, train_loss: 0.9864\n",
      "90/94, train_loss: 1.0000\n",
      "91/94, train_loss: 1.0000\n",
      "92/94, train_loss: 1.0000\n",
      "93/94, train_loss: 0.7071\n",
      "94/94, train_loss: 1.0000\n",
      "epoch 1 average loss: 0.9299\n"
     ]
    }
   ],
   "source": [
    "for epoch in range(1):\n",
    "    print(\"-\" * 10)\n",
    "    print(f\"epoch {epoch + 1}/{10}\")\n",
    "    model.train()\n",
    "    epoch_loss = 0\n",
    "    step = 0\n",
    "    for batch_data in loader:\n",
    "        step += 1\n",
    "        #inputs, labels = batch_data[0].to(device), batch_data[1].to(device)\n",
    "        #Swaping axes to have a batch of Batch_size, Channels, width and height\n",
    "        inputs, labels = torch.swapaxes(batch_data[0][0], 1, -1).to(device), torch.swapaxes(batch_data[1][0], 1, -1).to(device).to(device)\n",
    "        optimizer.zero_grad()\n",
    "        outputs = model(inputs)\n",
    "        loss = loss_function(outputs, labels)\n",
    "        loss.backward()\n",
    "        optimizer.step()\n",
    "        epoch_loss += loss.item()\n",
    "        epoch_len = len(loader) // loader.batch_size\n",
    "        print(f\"{step}/{epoch_len}, train_loss: {loss.item():.4f}\")\n",
    "        writer.add_scalar(\"train_loss\", loss.item(), epoch_len * epoch + step)\n",
    "    epoch_loss /= step\n",
    "    epoch_loss_values.append(epoch_loss)\n",
    "    print(f\"epoch {epoch + 1} average loss: {epoch_loss:.4f}\")\n",
    "    if (epoch + 1) % val_interval == 0:\n",
    "        model.eval()\n",
    "        with torch.no_grad():\n",
    "            val_images = None\n",
    "            val_labels = None\n",
    "            val_outputs = None\n",
    "            for val_data in val_loader:\n",
    "                val_images, val_labels = val_data[0].to(device), val_data[1].to(device)\n",
    "                roi_size = (96, 96)\n",
    "                sw_batch_size = 4\n",
    "                val_outputs = sliding_window_inference(val_images, roi_size, sw_batch_size, model)\n",
    "                val_outputs = [post_trans(i) for i in decollate_batch(val_outputs)]\n",
    "                # compute metric for current iteration\n",
    "                dice_metric(y_pred=val_outputs, y=val_labels)\n",
    "            # aggregate the final mean dice result\n",
    "            metric = dice_metric.aggregate().item()\n",
    "            # reset the status for next validation round\n",
    "            dice_metric.reset()\n",
    "            metric_values.append(metric)\n",
    "            if metric > best_metric:\n",
    "                best_metric = metric\n",
    "                best_metric_epoch = epoch + 1\n",
    "                torch.save(model.state_dict(), \"best_metric_model_segmentation2d_array.pth\")\n",
    "                print(\"saved new best metric model\")\n",
    "            print(\n",
    "                \"current epoch: {} current mean dice: {:.4f} best mean dice: {:.4f} at epoch {}\".format(\n",
    "                    epoch + 1, metric, best_metric, best_metric_epoch\n",
    "                )\n",
    "            )\n",
    "            writer.add_scalar(\"val_mean_dice\", metric, epoch + 1)"
   ]
  }
 ],
 "metadata": {
  "kernelspec": {
   "display_name": "Python 3 (ipykernel)",
   "language": "python",
   "name": "python3"
  },
  "language_info": {
   "codemirror_mode": {
    "name": "ipython",
    "version": 3
   },
   "file_extension": ".py",
   "mimetype": "text/x-python",
   "name": "python",
   "nbconvert_exporter": "python",
   "pygments_lexer": "ipython3",
   "version": "3.9.7"
  }
 },
 "nbformat": 4,
 "nbformat_minor": 5
}
