{
 "cells": [
  {
   "cell_type": "code",
   "execution_count": 40,
   "id": "2b6dbe66",
   "metadata": {},
   "outputs": [],
   "source": [
    "import numpy as np\n",
    "from natsort import natsorted\n",
    "from glob import glob\n",
    "from sklearn.cluster import KMeans\n",
    "from sklearn.preprocessing import StandardScaler\n",
    "import umap\n",
    "import matplotlib.pyplot as plt\n"
   ]
  },
  {
   "cell_type": "code",
   "execution_count": 8,
   "id": "b30ed5c0",
   "metadata": {},
   "outputs": [
    {
     "data": {
      "text/plain": [
       "259"
      ]
     },
     "execution_count": 8,
     "metadata": {},
     "output_type": "execute_result"
    }
   ],
   "source": [
    "LIEU = 'sebastian_laptop'\n",
    "\n",
    "if LIEU=='sebastian_insel':\n",
    "    root_exp  = '/home/sebastian/experiments/fedem/'\n",
    "    root_data = '/media/sebastian/data/ASAP/BRATS_2019_ubelix/center_wise/'\n",
    "    brats_nifti__dir_paths = natsorted(glob(root_data+\"**/**/\"))\n",
    "\n",
    "if LIEU=='sebastian_laptop':\n",
    "    root_exp  = '/Users/sebastianotalora/work/postdoc/federated_learning/fedem/'\n",
    "    root_data = '/Users/sebastianotalora/work/postdoc/federated_learning/data/'\n",
    "    brats_nifti__dir_paths = natsorted(glob(root_data+'brats/'\"**/**/\"))\n",
    "len(brats_nifti__dir_paths)#Should be 259"
   ]
  },
  {
   "cell_type": "code",
   "execution_count": 68,
   "id": "4cb661b9",
   "metadata": {},
   "outputs": [],
   "source": [
    "BraTS19_2013_embeddings   = np.load(root_exp+'data/partitions/embeddings/'+'training_embeddings_center_'+str(0)+'.npy')\n",
    "BraTS19_CBICA_embeddings  = np.load(root_exp+'data/partitions/embeddings/'+'training_embeddings_center_'+str(1)+'.npy')\n",
    "BraTS19_TCIA01_embeddings = np.load(root_exp+'data/partitions/embeddings/'+'training_embeddings_center_'+str(2)+'.npy')\n",
    "BraTS19_TMC_embeddings    = np.load(root_exp+'data/partitions/embeddings/'+'training_embeddings_center_'+str(3)+'.npy')"
   ]
  },
  {
   "cell_type": "code",
   "execution_count": 69,
   "id": "2836d0c8",
   "metadata": {
    "scrolled": true
   },
   "outputs": [
    {
     "name": "stdout",
     "output_type": "stream",
     "text": [
      "(14, 72, 1024) (90, 72, 1024) (71, 72, 1024) (5, 72, 1024)\n"
     ]
    }
   ],
   "source": [
    "print(BraTS19_2013_embeddings.shape, BraTS19_CBICA_embeddings.shape, BraTS19_TCIA01_embeddings.shape, BraTS19_TMC_embeddings.shape)"
   ]
  },
  {
   "cell_type": "code",
   "execution_count": 98,
   "id": "622da795",
   "metadata": {},
   "outputs": [],
   "source": [
    "def centroids_from_embeddings(embeddings):\n",
    "    volumes_centroids = []\n",
    "    for cur_sample in range(embeddings.shape[0]): #looping through all the volumes\n",
    "        #kmeans = KMeans(n_clusters=2, random_state=0).fit(embeddings[cur_sample,:,:])\n",
    "        #volumes_centroids.append(np.concatenate((kmeans.cluster_centers_[0],kmeans.cluster_centers_[1]), axis=0))\n",
    "        #volumes_centroids.append(kmeans.cluster_centers_[1])\n",
    "        volumes_centroids.append(np.mean(embeddings[0],axis=0))\n",
    "    return np.array(volumes_centroids).squeeze()"
   ]
  },
  {
   "cell_type": "code",
   "execution_count": 109,
   "id": "c5b97b06",
   "metadata": {},
   "outputs": [],
   "source": [
    "BraTS19_2013_centroids   = centroids_from_embeddings(BraTS19_2013_embeddings)\n",
    "BraTS19_CBICA_centroids  = centroids_from_embeddings(BraTS19_CBICA_embeddings)\n",
    "BraTS19_TCIA01_centroids = centroids_from_embeddings(BraTS19_TCIA01_embeddings)\n",
    "BraTS19_TMC_centroids    = centroids_from_embeddings(BraTS19_TMC_embeddings)"
   ]
  },
  {
   "cell_type": "code",
   "execution_count": 110,
   "id": "56f60359",
   "metadata": {},
   "outputs": [
    {
     "name": "stdout",
     "output_type": "stream",
     "text": [
      "(14, 1024) (90, 1024) (71, 1024) (5, 1024)\n"
     ]
    }
   ],
   "source": [
    "print(BraTS19_2013_centroids.shape,BraTS19_CBICA_centroids.shape,BraTS19_TCIA01_centroids.shape,BraTS19_TMC_centroids.shape)"
   ]
  },
  {
   "cell_type": "code",
   "execution_count": 111,
   "id": "9ac2ce99",
   "metadata": {},
   "outputs": [],
   "source": [
    "reducer = umap.UMAP()"
   ]
  },
  {
   "cell_type": "code",
   "execution_count": 112,
   "id": "d13b4ee5",
   "metadata": {},
   "outputs": [
    {
     "data": {
      "text/plain": [
       "(180, 2)"
      ]
     },
     "execution_count": 112,
     "metadata": {},
     "output_type": "execute_result"
    }
   ],
   "source": [
    "#scaled_sample_data = StandardScaler().fit_transform(np.concatenate((BraTS19_TCIA01_centroids, BraTS19_CBICA_centroids),axis=0))\n",
    "\n",
    "scaled_sample_data = StandardScaler().fit_transform(np.concatenate((BraTS19_2013_centroids, BraTS19_CBICA_centroids, BraTS19_TCIA01_centroids, BraTS19_TMC_centroids),axis=0))\n",
    "\n",
    "embedding = reducer.fit_transform(scaled_sample_data)\n",
    "\n",
    "#embedding = reducer.fit_transform(np.concatenate((BraTS19_2013_centroids, BraTS19_CBICA_centroids),axis=0))\n",
    "\n",
    "embedding.shape\n"
   ]
  },
  {
   "cell_type": "code",
   "execution_count": 117,
   "id": "97fa253c",
   "metadata": {},
   "outputs": [],
   "source": [
    "color_points = [(0.2980392156862745, 0.4470588235294118, 0.6901960784313725)]\n",
    "color_points = color_points*BraTS19_2013_centroids.shape[0]\n",
    "\n",
    "color_points2 = [(0.1, 0.1, 0.1)]\n",
    "color_points2 = color_points2*BraTS19_CBICA_centroids.shape[0]\n",
    "\n",
    "color_points3 = [(0.9, 0.2, 0.2)]\n",
    "color_points3 = color_points3*BraTS19_TCIA01_centroids.shape[0]\n",
    "\n",
    "\n",
    "color_points4 = [(0.3333333333333333, 0.3, 0.3)]\n",
    "color_points4  = color_points4*BraTS19_TMC_centroids.shape[0]\n",
    "\n",
    "\n",
    "all_colors = color_points+color_points2 + color_points3 + color_points4"
   ]
  },
  {
   "cell_type": "code",
   "execution_count": 118,
   "id": "a119ff47",
   "metadata": {},
   "outputs": [
    {
     "data": {
      "text/plain": [
       "Text(0.5, 1.0, 'UMAP projection of the volumes in the center BraTS19_2013_ vs BraTS19_CBICA')"
      ]
     },
     "execution_count": 118,
     "metadata": {},
     "output_type": "execute_result"
    },
    {
     "data": {
      "image/png": "[encoded data removed]",
      "text/plain": [
       "<Figure size 432x288 with 1 Axes>"
      ]
     },
     "metadata": {
      "needs_background": "light"
     },
     "output_type": "display_data"
    }
   ],
   "source": [
    "plt.scatter(\n",
    "    embedding[:, 0],\n",
    "    embedding[:, 1],\n",
    "    c=all_colors)\n",
    "plt.gca().set_aspect('equal', 'datalim')\n",
    "plt.title('UMAP projection of the volumes in the center BraTS19_2013_ vs BraTS19_CBICA', fontsize=24)\n",
    "\n"
   ]
  },
  {
   "cell_type": "code",
   "execution_count": null,
   "id": "b2afb516",
   "metadata": {},
   "outputs": [],
   "source": []
  }
 ],
 "metadata": {
  "kernelspec": {
   "display_name": "Python 3 (ipykernel)",
   "language": "python",
   "name": "python3"
  },
  "language_info": {
   "codemirror_mode": {
    "name": "ipython",
    "version": 3
   },
   "file_extension": ".py",
   "mimetype": "text/x-python",
   "name": "python",
   "nbconvert_exporter": "python",
   "pygments_lexer": "ipython3",
   "version": "3.9.7"
  }
 },
 "nbformat": 4,
 "nbformat_minor": 5
}
