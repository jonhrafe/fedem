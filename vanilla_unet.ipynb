{
 "cells": [
  {
   "cell_type": "code",
   "execution_count": 2,
   "id": "37026fef",
   "metadata": {},
   "outputs": [],
   "source": [
    "import logging\n",
    "import os\n",
    "import sys\n",
    "import tempfile\n",
    "from glob import glob\n",
    "\n",
    "import torch\n",
    "from PIL import Image\n",
    "from torch.utils.data import DataLoader\n",
    "from torch.utils.tensorboard import SummaryWriter\n",
    "\n",
    "import monai\n",
    "from monai.data import ArrayDataset, create_test_image_2d, decollate_batch\n",
    "from monai.inferers import sliding_window_inference\n",
    "from monai.metrics import DiceMetric\n",
    "from monai.transforms import (\n",
    "    Activations,\n",
    "    AddChannel,\n",
    "    AsDiscrete,\n",
    "    Compose,\n",
    "    LoadImage,\n",
    "    RandRotate90,\n",
    "    RandSpatialCrop,\n",
    "    ScaleIntensity,\n",
    "    EnsureType,\n",
    ")\n",
    "from PIL import Image, ImageDraw\n",
    "\n",
    "from monai.visualize import plot_2d_or_3d_image\n",
    "import numpy as np\n",
    "import matplotlib.pyplot as plt\n",
    "\n",
    "from typing import Optional, Tuple\n",
    "from monai.transforms.utils import rescale_array\n"
   ]
  },
  {
   "cell_type": "code",
   "execution_count": 9,
   "id": "26d359c6",
   "metadata": {
    "scrolled": true
   },
   "outputs": [
    {
     "name": "stdout",
     "output_type": "stream",
     "text": [
      "0.7.0\n"
     ]
    }
   ],
   "source": [
    "print(monai.__version__)\n",
    "EXPERIMENT = 'synthetic/' # 'synthetic', 'ISLES', 'BRATS'\n",
    "ROOT_EXP   = './'\n",
    "ROOT_DATA = ROOT_EXP + 'data/'+EXPERIMENT\n",
    "#At insel: /home/sebastian/experiments/fedem/data/'"
   ]
  },
  {
   "cell_type": "code",
   "execution_count": 10,
   "id": "3c9087c6",
   "metadata": {},
   "outputs": [
    {
     "name": "stdout",
     "output_type": "stream",
     "text": [
      "MONAI version: 0.7.0\n",
      "Numpy version: 1.21.2\n",
      "Pytorch version: 1.10.0\n",
      "MONAI flags: HAS_EXT = False, USE_COMPILED = False\n",
      "MONAI rev id: bfa054b9c3064628a21f4c35bbe3132964e91f43\n",
      "\n",
      "Optional dependencies:\n",
      "Pytorch Ignite version: NOT INSTALLED or UNKNOWN VERSION.\n",
      "Nibabel version: NOT INSTALLED or UNKNOWN VERSION.\n",
      "scikit-image version: NOT INSTALLED or UNKNOWN VERSION.\n",
      "Pillow version: 8.4.0\n",
      "Tensorboard version: 2.7.0\n",
      "gdown version: NOT INSTALLED or UNKNOWN VERSION.\n",
      "TorchVision version: 0.11.1\n",
      "tqdm version: 4.62.3\n",
      "lmdb version: NOT INSTALLED or UNKNOWN VERSION.\n",
      "psutil version: NOT INSTALLED or UNKNOWN VERSION.\n",
      "pandas version: 1.3.4\n",
      "einops version: NOT INSTALLED or UNKNOWN VERSION.\n",
      "transformers version: NOT INSTALLED or UNKNOWN VERSION.\n",
      "\n",
      "For details about installing the optional dependencies, please visit:\n",
      "    https://docs.monai.io/en/latest/installation.html#installing-the-recommended-dependencies\n",
      "\n"
     ]
    }
   ],
   "source": [
    "monai.config.print_config()\n",
    "logging.basicConfig(stream=sys.stdout, level=logging.INFO)"
   ]
  },
  {
   "cell_type": "code",
   "execution_count": 11,
   "id": "5c0352c9",
   "metadata": {},
   "outputs": [],
   "source": [
    "train_dir = ROOT_DATA + 'train/'\n",
    "val_dir   = ROOT_DATA + 'val/'\n",
    "test_dir  = ROOT_DATA + 'test/'"
   ]
  },
  {
   "cell_type": "code",
   "execution_count": 12,
   "id": "ff031d8c",
   "metadata": {
    "scrolled": true
   },
   "outputs": [
    {
     "name": "stdout",
     "output_type": "stream",
     "text": [
      "90 90\n",
      "10 10\n",
      "20 20\n"
     ]
    }
   ],
   "source": [
    "imagepaths_train = sorted(glob(os.path.join(train_dir, \"*img*.png\")))\n",
    "segmpaths_train   = sorted(glob(os.path.join(train_dir, \"*seg*.png\")))\n",
    "print(len(imagepaths_train),len(segmpaths_train))\n",
    "imagepaths_val = sorted(glob(os.path.join(val_dir, \"*img*.png\")))\n",
    "segmpaths_val   = sorted(glob(os.path.join(val_dir, \"*seg*.png\")))\n",
    "print(len(imagepaths_val),len(segmpaths_val))\n",
    "imagepaths_test = sorted(glob(os.path.join(test_dir, \"*img*.png\")))\n",
    "segmpaths_test   = sorted(glob(os.path.join(test_dir, \"*seg*.png\")))\n",
    "print(len(imagepaths_test),len(segmpaths_test))"
   ]
  },
  {
   "cell_type": "code",
   "execution_count": 13,
   "id": "97e5bd08",
   "metadata": {},
   "outputs": [],
   "source": [
    "# define transforms for image and segmentation\n",
    "train_imtrans = Compose(\n",
    "    [\n",
    "        LoadImage(image_only=True),\n",
    "        AddChannel(),\n",
    "        ScaleIntensity(),\n",
    "        RandSpatialCrop((96, 96), random_size=False),\n",
    "        RandRotate90(prob=0.5, spatial_axes=(0, 1)),\n",
    "        EnsureType(),\n",
    "    ]\n",
    ")\n",
    "train_segtrans = Compose(\n",
    "    [\n",
    "        LoadImage(image_only=True),\n",
    "        AddChannel(),\n",
    "        ScaleIntensity(),\n",
    "        RandSpatialCrop((96, 96), random_size=False),\n",
    "        RandRotate90(prob=0.5, spatial_axes=(0, 1)),\n",
    "        EnsureType(),\n",
    "    ]\n",
    ")"
   ]
  },
  {
   "cell_type": "code",
   "execution_count": 14,
   "id": "a3ab2994",
   "metadata": {},
   "outputs": [
    {
     "name": "stdout",
     "output_type": "stream",
     "text": [
      "torch.Size([10, 1, 96, 96]) torch.Size([10, 1, 96, 96])\n"
     ]
    }
   ],
   "source": [
    "val_imtrans = Compose([LoadImage(image_only=True), AddChannel(), ScaleIntensity(), EnsureType()])\n",
    "val_segtrans = Compose([LoadImage(image_only=True), AddChannel(), ScaleIntensity(), EnsureType()])\n",
    "\n",
    "# define array dataset, data loader\n",
    "check_ds = ArrayDataset(imagepaths_train, train_imtrans, segmpaths_train, train_segtrans)\n",
    "check_loader = DataLoader(check_ds, batch_size=10, num_workers=2, pin_memory=torch.cuda.is_available())\n",
    "im, seg = monai.utils.misc.first(check_loader)\n",
    "print(im.shape, seg.shape)"
   ]
  },
  {
   "cell_type": "code",
   "execution_count": 15,
   "id": "7ce94fd2",
   "metadata": {},
   "outputs": [
    {
     "name": "stdout",
     "output_type": "stream",
     "text": [
      "cpu\n"
     ]
    }
   ],
   "source": [
    "# create a training data loader\n",
    "train_ds = ArrayDataset(imagepaths_train, train_imtrans, segmpaths_train, train_segtrans)\n",
    "train_loader = DataLoader(train_ds, batch_size=4, shuffle=True, num_workers=8, pin_memory=torch.cuda.is_available())\n",
    "# create a validation data loader\n",
    "val_ds = ArrayDataset(imagepaths_val, val_imtrans, segmpaths_val, val_segtrans)\n",
    "val_loader = DataLoader(val_ds, batch_size=1, num_workers=4, pin_memory=torch.cuda.is_available())\n",
    "#create the test data loader\n",
    "test_ds = ArrayDataset(imagepaths_test, val_imtrans, segmpaths_test, val_segtrans)\n",
    "test_loader = DataLoader(test_ds, batch_size=1, shuffle=True, num_workers=8, pin_memory=torch.cuda.is_available())\n",
    "\n",
    "dice_metric = DiceMetric(include_background=True, reduction=\"mean\", get_not_nans=False)\n",
    "dice_metric_test = DiceMetric(include_background=True, reduction=\"mean\", get_not_nans=False)\n",
    "\n",
    "\n",
    "post_trans = Compose([EnsureType(), Activations(sigmoid=True), AsDiscrete(threshold_values=True)])\n",
    "# create UNet, DiceLoss and Adam optimizer\n",
    "device = torch.device(\"cuda\" if torch.cuda.is_available() else \"cpu\")\n",
    "print(device)"
   ]
  },
  {
   "cell_type": "code",
   "execution_count": 27,
   "id": "fc406705",
   "metadata": {},
   "outputs": [
    {
     "data": {
      "text/plain": [
       "<torch.utils.data.dataset.Subset at 0x7fa7f16c3b50>"
      ]
     },
     "execution_count": 27,
     "metadata": {},
     "output_type": "execute_result"
    }
   ],
   "source": [
    "train_ds[10:20]"
   ]
  },
  {
   "cell_type": "code",
   "execution_count": 26,
   "id": "3949f3ab",
   "metadata": {},
   "outputs": [
    {
     "data": {
      "text/plain": [
       "<matplotlib.image.AxesImage at 0x7fa7f2150640>"
      ]
     },
     "execution_count": 26,
     "metadata": {},
     "output_type": "execute_result"
    },
    {
     "data": {
      "image/png": "[encoded data removed]",
      "text/plain": [
       "<Figure size 432x288 with 1 Axes>"
      ]
     },
     "metadata": {
      "needs_background": "light"
     },
     "output_type": "display_data"
    }
   ],
   "source": [
    "plt.imshow(train_ds[0][0][0].cpu())"
   ]
  },
  {
   "cell_type": "code",
   "execution_count": null,
   "id": "2d4c6db5",
   "metadata": {
    "scrolled": true
   },
   "outputs": [
    {
     "name": "stdout",
     "output_type": "stream",
     "text": [
      "Training for run 0\n",
      "----------\n",
      "epoch 1/10\n",
      "1/22, train_loss: 0.5072\n",
      "2/22, train_loss: 0.5238\n",
      "3/22, train_loss: 0.4466\n",
      "4/22, train_loss: 0.4102\n",
      "5/22, train_loss: 0.4305\n",
      "6/22, train_loss: 0.4142\n",
      "7/22, train_loss: 0.4545\n",
      "8/22, train_loss: 0.3924\n",
      "9/22, train_loss: 0.4170\n",
      "10/22, train_loss: 0.4241\n",
      "11/22, train_loss: 0.4376\n",
      "12/22, train_loss: 0.4176\n",
      "13/22, train_loss: 0.4146\n",
      "14/22, train_loss: 0.4217\n",
      "15/22, train_loss: 0.4247\n",
      "16/22, train_loss: 0.4268\n",
      "17/22, train_loss: 0.4107\n",
      "18/22, train_loss: 0.4309\n",
      "19/22, train_loss: 0.3806\n",
      "20/22, train_loss: 0.4206\n",
      "21/22, train_loss: 0.3655\n",
      "22/22, train_loss: 0.4186\n",
      "23/22, train_loss: 0.4069\n",
      "epoch 1 average loss: 0.4260\n",
      "----------\n",
      "epoch 2/10\n",
      "1/22, train_loss: 0.4170\n",
      "2/22, train_loss: 0.3602\n",
      "3/22, train_loss: 0.3686\n",
      "4/22, train_loss: 0.3831\n",
      "5/22, train_loss: 0.3913\n",
      "6/22, train_loss: 0.3711\n",
      "7/22, train_loss: 0.3570\n",
      "8/22, train_loss: 0.3738\n",
      "9/22, train_loss: 0.3505\n",
      "10/22, train_loss: 0.3574\n",
      "11/22, train_loss: 0.3562\n",
      "12/22, train_loss: 0.3669\n",
      "13/22, train_loss: 0.3836\n",
      "14/22, train_loss: 0.3878\n",
      "15/22, train_loss: 0.3582\n",
      "16/22, train_loss: 0.3557\n",
      "17/22, train_loss: 0.3393\n",
      "18/22, train_loss: 0.3521\n",
      "19/22, train_loss: 0.3703\n",
      "20/22, train_loss: 0.3598\n",
      "21/22, train_loss: 0.3260\n",
      "22/22, train_loss: 0.4089\n",
      "23/22, train_loss: 0.4497\n",
      "epoch 2 average loss: 0.3715\n",
      "saved new best metric model\n",
      "current epoch: 2 current mean dice: 0.9707 best mean dice: 0.9707 at epoch 2\n",
      "----------\n",
      "epoch 3/10\n",
      "1/22, train_loss: 0.3735\n",
      "2/22, train_loss: 0.3233\n",
      "3/22, train_loss: 0.3641\n",
      "4/22, train_loss: 0.3571\n",
      "5/22, train_loss: 0.3107\n",
      "6/22, train_loss: 0.3285\n",
      "7/22, train_loss: 0.3458\n",
      "8/22, train_loss: 0.3189\n",
      "9/22, train_loss: 0.3236\n",
      "10/22, train_loss: 0.3445\n",
      "11/22, train_loss: 0.3674\n",
      "12/22, train_loss: 0.3558\n",
      "13/22, train_loss: 0.3471\n",
      "14/22, train_loss: 0.3021\n",
      "15/22, train_loss: 0.3162\n",
      "16/22, train_loss: 0.3453\n",
      "17/22, train_loss: 0.3063\n",
      "18/22, train_loss: 0.3093\n",
      "19/22, train_loss: 0.3884\n",
      "20/22, train_loss: 0.2917\n",
      "21/22, train_loss: 0.3384\n",
      "22/22, train_loss: 0.3180\n",
      "23/22, train_loss: 0.2984\n",
      "epoch 3 average loss: 0.3337\n",
      "----------\n",
      "epoch 4/10\n",
      "1/22, train_loss: 0.3134\n",
      "2/22, train_loss: 0.3113\n",
      "3/22, train_loss: 0.3492\n",
      "4/22, train_loss: 0.3113\n",
      "5/22, train_loss: 0.3107\n",
      "6/22, train_loss: 0.2910\n",
      "7/22, train_loss: 0.3005\n",
      "8/22, train_loss: 0.3397\n",
      "9/22, train_loss: 0.3162\n",
      "10/22, train_loss: 0.2951\n",
      "11/22, train_loss: 0.2756\n",
      "12/22, train_loss: 0.3030\n",
      "13/22, train_loss: 0.3052\n",
      "14/22, train_loss: 0.3136\n",
      "15/22, train_loss: 0.2902\n",
      "16/22, train_loss: 0.3105\n",
      "17/22, train_loss: 0.2773\n",
      "18/22, train_loss: 0.2673\n",
      "19/22, train_loss: 0.3030\n",
      "20/22, train_loss: 0.2898\n",
      "21/22, train_loss: 0.3073\n",
      "22/22, train_loss: 0.2653\n",
      "23/22, train_loss: 0.3583\n",
      "epoch 4 average loss: 0.3045\n",
      "saved new best metric model\n",
      "current epoch: 4 current mean dice: 0.9861 best mean dice: 0.9861 at epoch 4\n",
      "----------\n",
      "epoch 5/10\n",
      "1/22, train_loss: 0.2702\n",
      "2/22, train_loss: 0.2690\n",
      "3/22, train_loss: 0.2710\n",
      "4/22, train_loss: 0.2956\n",
      "5/22, train_loss: 0.2839\n",
      "6/22, train_loss: 0.2601\n",
      "7/22, train_loss: 0.3350\n",
      "8/22, train_loss: 0.2588\n",
      "9/22, train_loss: 0.2759\n",
      "10/22, train_loss: 0.2826\n",
      "11/22, train_loss: 0.2551\n",
      "12/22, train_loss: 0.2557\n",
      "13/22, train_loss: 0.2833\n",
      "14/22, train_loss: 0.2801\n",
      "15/22, train_loss: 0.2659\n",
      "16/22, train_loss: 0.2981\n",
      "17/22, train_loss: 0.2455\n",
      "18/22, train_loss: 0.2976\n",
      "19/22, train_loss: 0.2975\n",
      "20/22, train_loss: 0.2499\n",
      "21/22, train_loss: 0.2711\n",
      "22/22, train_loss: 0.2564\n",
      "23/22, train_loss: 0.2751\n",
      "epoch 5 average loss: 0.2754\n",
      "----------\n",
      "epoch 6/10\n"
     ]
    }
   ],
   "source": [
    "best_val_performances = []\n",
    "test_performances = []\n",
    "file_performances_test = open(ROOT_EXP + 'results/performances_dice_'+EXPERIMENT.split('/')[0]+'.txt','w')\n",
    "\n",
    "for run_num in range(10):\n",
    "    print(f\"Training for run {run_num}\")\n",
    "    model = monai.networks.nets.UNet(\n",
    "        spatial_dims=2,\n",
    "        in_channels=1,\n",
    "        out_channels=1,\n",
    "        channels=(16, 32, 64, 128, 256),\n",
    "        strides=(2, 2, 2, 2),\n",
    "        num_res_units=2,\n",
    "    ).to(device)\n",
    "\n",
    "    loss_function = monai.losses.DiceLoss(sigmoid=True)\n",
    "    optimizer = torch.optim.Adam(model.parameters(), 1e-3)\n",
    "\n",
    "    # start a typical PyTorch training\n",
    "    val_interval = 2\n",
    "    best_metric = -1\n",
    "    best_metric_epoch = -1\n",
    "    epoch_loss_values = list()\n",
    "    metric_values = list()\n",
    "    metric_values_test = list()\n",
    "    writer = SummaryWriter()\n",
    "    for epoch in range(10):\n",
    "        print(\"-\" * 10)\n",
    "        print(f\"epoch {epoch + 1}/{10}\")\n",
    "        model.train()\n",
    "        epoch_loss = 0\n",
    "        step = 0\n",
    "        for batch_data in train_loader:\n",
    "            step += 1\n",
    "            inputs, labels = batch_data[0].to(device), batch_data[1].to(device)\n",
    "            optimizer.zero_grad()\n",
    "            outputs = model(inputs)\n",
    "            loss = loss_function(outputs, labels)\n",
    "            loss.backward()\n",
    "            optimizer.step()\n",
    "            epoch_loss += loss.item()\n",
    "            epoch_len = len(train_ds) // train_loader.batch_size\n",
    "            print(f\"{step}/{epoch_len}, train_loss: {loss.item():.4f}\")\n",
    "            writer.add_scalar(\"train_loss\", loss.item(), epoch_len * epoch + step)\n",
    "        epoch_loss /= step\n",
    "        epoch_loss_values.append(epoch_loss)\n",
    "        print(f\"epoch {epoch + 1} average loss: {epoch_loss:.4f}\")\n",
    "        if (epoch + 1) % val_interval == 0:\n",
    "            model.eval()\n",
    "            with torch.no_grad():\n",
    "                val_images = None\n",
    "                val_labels = None\n",
    "                val_outputs = None\n",
    "                for val_data in val_loader:\n",
    "                    val_images, val_labels = val_data[0].to(device), val_data[1].to(device)\n",
    "                    roi_size = (96, 96)\n",
    "                    sw_batch_size = 4\n",
    "                    val_outputs = sliding_window_inference(val_images, roi_size, sw_batch_size, model)\n",
    "                    val_outputs = [post_trans(i) for i in decollate_batch(val_outputs)]\n",
    "                    # compute metric for current iteration\n",
    "                    #print(\"========\")\n",
    "                    #print(val_outputs[0].shape,val_labels[0].shape)\n",
    "                    dice_metric(y_pred=val_outputs, y=val_labels)\n",
    "                    #print(\"========\")\n",
    "\n",
    "                # aggregate the final mean dice result\n",
    "                metric = dice_metric.aggregate().item()\n",
    "                # reset the status for next validation round\n",
    "                dice_metric.reset()\n",
    "                metric_values.append(metric)\n",
    "                if metric > best_metric:\n",
    "                    best_metric = metric\n",
    "                    best_metric_epoch = epoch + 1\n",
    "                    torch.save(model.state_dict(),ROOT_EXP+\"/models/\"+EXPERIMENT+\"run_\" +str(run_num)+\"_best_metric_model_segmentation2d_array.pth\")\n",
    "                    print(\"saved new best metric model\")\n",
    "                print(\n",
    "                    \"current epoch: {} current mean dice: {:.4f} best mean dice: {:.4f} at epoch {}\".format(\n",
    "                        epoch + 1, metric, best_metric, best_metric_epoch\n",
    "                    )\n",
    "                )\n",
    "                writer.add_scalar(\"val_mean_dice\", metric, epoch + 1)\n",
    "                # plot the last model output as GIF image in TensorBoard with the corresponding image and label\n",
    "                plot_2d_or_3d_image(val_images, epoch + 1, writer, index=0, tag=\"image\")\n",
    "                plot_2d_or_3d_image(val_labels, epoch + 1, writer, index=0, tag=\"label\")\n",
    "                plot_2d_or_3d_image(val_outputs, epoch + 1, writer, index=0, tag=\"output\")\n",
    "    best_val_performances.append(best_metric)\n",
    "    #Evaluation in the test partition\n",
    "    for test_data in test_loader:\n",
    "        test_images, test_labels = test_data[0].to(device), test_data[1].to(device)\n",
    "        roi_size = (96, 96)\n",
    "        sw_batch_size = 4\n",
    "        test_outputs = sliding_window_inference(test_images, roi_size, sw_batch_size, model)\n",
    "        test_outputs = [post_trans(i) for i in decollate_batch(test_outputs)]\n",
    "        dice_metric_test(y_pred=test_outputs, y=test_labels)\n",
    "    metric_test = dice_metric_test.aggregate().item()\n",
    "    dice_metric_test.reset()\n",
    "    test_performances.append(metric_test)\n",
    "    print(\"Dice in Test partition for run \" + str(run_num) + str(metric_test))\n",
    "    file_performances_test.write(str(metric_test)+'\\n')\n",
    "file_performances_test.close()"
   ]
  },
  {
   "cell_type": "code",
   "execution_count": 24,
   "id": "945411f6",
   "metadata": {},
   "outputs": [
    {
     "data": {
      "text/plain": [
       "[0.9900366067886353]"
      ]
     },
     "execution_count": 24,
     "metadata": {},
     "output_type": "execute_result"
    }
   ],
   "source": [
    "metric_values_test"
   ]
  },
  {
   "cell_type": "code",
   "execution_count": 27,
   "id": "e7ab4785",
   "metadata": {},
   "outputs": [],
   "source": []
  },
  {
   "cell_type": "code",
   "execution_count": null,
   "id": "32e07f8c",
   "metadata": {},
   "outputs": [],
   "source": [
    "### print(val_outputs[0].shape, val_labels.shape)"
   ]
  },
  {
   "cell_type": "code",
   "execution_count": 14,
   "id": "fa8c01f4",
   "metadata": {},
   "outputs": [
    {
     "name": "stdout",
     "output_type": "stream",
     "text": [
      "train completed, best_metric: 0.9880 at epoch: 10\n"
     ]
    }
   ],
   "source": [
    "print(f\"train completed, best_metric: {best_metric:.4f} at epoch: {best_metric_epoch}\")\n",
    "writer.close()"
   ]
  },
  {
   "cell_type": "code",
   "execution_count": 16,
   "id": "74d14fc9",
   "metadata": {},
   "outputs": [
    {
     "data": {
      "text/plain": [
       "<matplotlib.image.AxesImage at 0x7f29507cc730>"
      ]
     },
     "execution_count": 16,
     "metadata": {},
     "output_type": "execute_result"
    },
    {
     "data": {
      "image/png": "[encoded data removed]",
      "text/plain": [
       "<Figure size 432x288 with 1 Axes>"
      ]
     },
     "metadata": {
      "needs_background": "light"
     },
     "output_type": "display_data"
    }
   ],
   "source": [
    "plt.imshow(val_outputs[0][0].cpu().numpy())"
   ]
  },
  {
   "cell_type": "code",
   "execution_count": 17,
   "id": "b03d90a4",
   "metadata": {
    "scrolled": true
   },
   "outputs": [
    {
     "data": {
      "text/plain": [
       "<matplotlib.image.AxesImage at 0x7f29512bde80>"
      ]
     },
     "execution_count": 17,
     "metadata": {},
     "output_type": "execute_result"
    },
    {
     "data": {
      "image/png": "[encoded data removed]",
      "text/plain": [
       "<Figure size 432x288 with 1 Axes>"
      ]
     },
     "metadata": {
      "needs_background": "light"
     },
     "output_type": "display_data"
    }
   ],
   "source": [
    "plt.imshow(val_labels[0][0].cpu().numpy())"
   ]
  },
  {
   "cell_type": "code",
   "execution_count": 20,
   "id": "023608b6",
   "metadata": {},
   "outputs": [
    {
     "data": {
      "text/plain": [
       "<matplotlib.image.AxesImage at 0x7f29511908b0>"
      ]
     },
     "execution_count": 20,
     "metadata": {},
     "output_type": "execute_result"
    },
    {
     "data": {
      "image/png": "[encoded data removed]",
      "text/plain": [
       "<Figure size 432x288 with 1 Axes>"
      ]
     },
     "metadata": {
      "needs_background": "light"
     },
     "output_type": "display_data"
    }
   ],
   "source": [
    "plt.imshow(val_images[0][0].cpu().numpy())"
   ]
  },
  {
   "cell_type": "code",
   "execution_count": 26,
   "id": "072a35fd",
   "metadata": {},
   "outputs": [],
   "source": [
    "\n",
    "\n"
   ]
  },
  {
   "cell_type": "code",
   "execution_count": 27,
   "id": "52245c81",
   "metadata": {},
   "outputs": [
    {
     "data": {
      "text/plain": [
       "0.972629189491272"
      ]
     },
     "execution_count": 27,
     "metadata": {},
     "output_type": "execute_result"
    }
   ],
   "source": [
    "metric"
   ]
  },
  {
   "cell_type": "code",
   "execution_count": null,
   "id": "9b4a4c37",
   "metadata": {},
   "outputs": [],
   "source": []
  }
 ],
 "metadata": {
  "kernelspec": {
   "display_name": "Python 3 (ipykernel)",
   "language": "python",
   "name": "python3"
  },
  "language_info": {
   "codemirror_mode": {
    "name": "ipython",
    "version": 3
   },
   "file_extension": ".py",
   "mimetype": "text/x-python",
   "name": "python",
   "nbconvert_exporter": "python",
   "pygments_lexer": "ipython3",
   "version": "3.9.7"
  }
 },
 "nbformat": 4,
 "nbformat_minor": 5
}
